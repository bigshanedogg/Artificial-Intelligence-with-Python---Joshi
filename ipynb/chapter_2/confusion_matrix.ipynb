{
 "cells": [
  {
   "cell_type": "code",
   "execution_count": 4,
   "metadata": {},
   "outputs": [],
   "source": [
    "import numpy as np\n",
    "import matplotlib.pyplot as plt\n",
    "from sklearn.metrics import confusion_matrix, classification_report"
   ]
  },
  {
   "cell_type": "code",
   "execution_count": 3,
   "metadata": {
    "collapsed": true
   },
   "outputs": [],
   "source": [
    "true_labels = [2,0,0,2,4,4,1,0,3,3,3]\n",
    "pred_labels = [2,1,0,2,4,3,1,0,1,3,3]"
   ]
  },
  {
   "cell_type": "code",
   "execution_count": 6,
   "metadata": {
    "collapsed": true
   },
   "outputs": [],
   "source": [
    "#confusion_matrix\n",
    "confusion_mat = confusion_matrix(true_labels, pred_labels)"
   ]
  },
  {
   "cell_type": "code",
   "execution_count": 20,
   "metadata": {},
   "outputs": [
    {
     "data": {
      "image/png": "[encoded data removed]",
      "text/plain": [
       "<matplotlib.figure.Figure at 0x108a92978>"
      ]
     },
     "metadata": {},
     "output_type": "display_data"
    }
   ],
   "source": [
    "plt.imshow(confusion_mat, interpolation='nearest', cmap=plt.cm.gray)\n",
    "plt.title(\"Confusion matrix\")\n",
    "plt.colorbar()\n",
    "ticks = np.arange(5)\n",
    "plt.xticks(ticks, ticks)\n",
    "plt.yticks(ticks, ticks)\n",
    "plt.ylabel(\"True labels\")\n",
    "plt.xlabel(\"Predicted labels\")\n",
    "plt.show()"
   ]
  },
  {
   "cell_type": "markdown",
   "metadata": {},
   "source": [
    "# F1-Score는 Precision과 Recall의 조화평균이다.\n",
    "- precsion : TP / (TP+FP) 즉, 분류기의 판단이 얼마나 정확한지 (진짜라고 말한 것 중에 어느 정도 비율이 실제로 진짜인지)\n",
    "- recall : TF / (TP+FN) 즉, 분류기가 실제의 결과를 얼마나 정확하게 반영했는지 (실제 진짜인 것들 중 어느 정도 비율 진짜라고 가려냈는지)\n",
    "    * 조화평균은 평균을 구하고자 하는 값들의 비중이 동등할 때 (특정 값에 치우치지 않을 때), 그리고 역수가 의미가 있을 때 사용한다."
   ]
  },
  {
   "cell_type": "code",
   "execution_count": 21,
   "metadata": {},
   "outputs": [
    {
     "name": "stdout",
     "output_type": "stream",
     "text": [
      "             precision    recall  f1-score   support\n",
      "\n",
      "    Class-0       1.00      0.67      0.80         3\n",
      "    Class-1       0.33      1.00      0.50         1\n",
      "    Class-2       1.00      1.00      1.00         2\n",
      "    Class-3       0.67      0.67      0.67         3\n",
      "    Class-4       1.00      0.50      0.67         2\n",
      "\n",
      "avg / total       0.85      0.73      0.75        11\n",
      "\n"
     ]
    }
   ],
   "source": [
    "#classification result\n",
    "targets = [\"Class-0\", \"Class-1\", \"Class-2\", \"Class-3\", \"Class-4\"]\n",
    "print(classification_report(true_labels, pred_labels, target_names=targets))"
   ]
  }
 ],
 "metadata": {
  "kernelspec": {
   "display_name": "Python 3",
   "language": "python",
   "name": "python3"
  },
  "language_info": {
   "codemirror_mode": {
    "name": "ipython",
    "version": 3
   },
   "file_extension": ".py",
   "mimetype": "text/x-python",
   "name": "python",
   "nbconvert_exporter": "python",
   "pygments_lexer": "ipython3",
   "version": "3.5.1"
  }
 },
 "nbformat": 4,
 "nbformat_minor": 2
}
