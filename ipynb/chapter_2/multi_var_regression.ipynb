{
 "cells": [
  {
   "cell_type": "code",
   "execution_count": 1,
   "metadata": {
    "collapsed": true
   },
   "outputs": [],
   "source": [
    "import numpy as np\n",
    "from sklearn import linear_model\n",
    "import sklearn.metrics as sm\n",
    "from sklearn.preprocessing import PolynomialFeatures"
   ]
  },
  {
   "cell_type": "code",
   "execution_count": 3,
   "metadata": {
    "collapsed": true
   },
   "outputs": [],
   "source": [
    "input_file = \"data_multivar_regr.txt\""
   ]
  },
  {
   "cell_type": "code",
   "execution_count": 8,
   "metadata": {},
   "outputs": [],
   "source": [
    "data = np.loadtxt(input_file, delimiter=',')\n",
    "X, Y = data[:, :-1], data[:, -1]"
   ]
  },
  {
   "cell_type": "code",
   "execution_count": 9,
   "metadata": {
    "collapsed": true
   },
   "outputs": [],
   "source": [
    "num_training = int(0.8*len(X))\n",
    "num_test = len(X) - num_training\n",
    "X_train, Y_train = X[:num_training], Y[:num_training]\n",
    "X_test, Y_test = X[num_training:], Y[num_training:]"
   ]
  },
  {
   "cell_type": "code",
   "execution_count": 10,
   "metadata": {},
   "outputs": [
    {
     "name": "stderr",
     "output_type": "stream",
     "text": [
      "/Library/Frameworks/Python.framework/Versions/3.5/lib/python3.5/site-packages/scipy/linalg/basic.py:1018: RuntimeWarning: internal gelsd driver lwork query error, required iwork dimension not returned. This is likely the result of LAPACK bug 0038, fixed in LAPACK 3.2.2 (released July 21, 2010). Falling back to 'gelss' driver.\n",
      "  warnings.warn(mesg, RuntimeWarning)\n"
     ]
    }
   ],
   "source": [
    "linear_regressor = linear_model.LinearRegression()\n",
    "linear_regressor.fit(X_train, Y_train)\n",
    "Y_test_pred = linear_regressor.predict(X_test)"
   ]
  },
  {
   "cell_type": "code",
   "execution_count": 11,
   "metadata": {},
   "outputs": [
    {
     "name": "stdout",
     "output_type": "stream",
     "text": [
      "Linear Regressor performance:\n",
      "Mean absolute error = 3.58\n",
      "Mean squared error = 20.31\n",
      "Median absolute error = 2.99\n",
      "Explained variance score = 0.86\n",
      "R2 score = 0.86\n"
     ]
    }
   ],
   "source": [
    "print(\"Linear Regressor performance:\")\n",
    "print(\"Mean absolute error =\", round(sm.mean_absolute_error(Y_test, Y_test_pred), 2))\n",
    "print(\"Mean squared error =\", round(sm.mean_squared_error(Y_test, Y_test_pred), 2))\n",
    "print(\"Median absolute error =\", round(sm.median_absolute_error(Y_test, Y_test_pred), 2))\n",
    "print(\"Explained variance score =\", round(sm.explained_variance_score(Y_test, Y_test_pred), 2))\n",
    "print(\"R2 score =\", round(sm.r2_score(Y_test, Y_test_pred), 2))"
   ]
  },
  {
   "cell_type": "code",
   "execution_count": 14,
   "metadata": {
    "collapsed": true
   },
   "outputs": [],
   "source": [
    "#polynomial regression\n",
    "polynomial = PolynomialFeatures(degree=10) #각 항들의 상호작용을 나타내는 변수 (eg. X1*X2, X2*X3, X1*X2*X3 ... 등)를 포함한다.\n",
    "X_train_transformed = polynomial.fit_transform(X_train)\n",
    "datapoint = [[7.75, 6.35, 5.56]]\n",
    "poly_datapoint = polynomial.fit_transform(datapoint)"
   ]
  },
  {
   "cell_type": "code",
   "execution_count": 21,
   "metadata": {},
   "outputs": [
    {
     "name": "stdout",
     "output_type": "stream",
     "text": [
      "(560, 3)\n",
      "[[ 2.06  3.48  7.21]\n",
      " [ 6.37  3.01  7.27]\n",
      " [ 1.18  1.2   5.42]\n",
      " ..., \n",
      " [ 0.67  7.41  2.35]\n",
      " [ 8.26  2.93  2.69]\n",
      " [ 1.21  2.18  3.17]]\n"
     ]
    }
   ],
   "source": [
    "print(X_train.shape)\n",
    "print(X_train)"
   ]
  },
  {
   "cell_type": "code",
   "execution_count": 20,
   "metadata": {},
   "outputs": [
    {
     "name": "stdout",
     "output_type": "stream",
     "text": [
      "[[  1.00000000e+00   2.06000000e+00   3.48000000e+00 ...,   8.84383448e+07\n",
      "    1.83230019e+08   3.79623114e+08]\n",
      " [  1.00000000e+00   6.37000000e+00   3.01000000e+00 ...,   7.06981872e+07\n",
      "    1.70756087e+08   4.12424170e+08]\n",
      " [  1.00000000e+00   1.18000000e+00   1.20000000e+00 ...,   1.07239995e+06\n",
      "    4.84367310e+06   2.18772568e+07]\n",
      " ..., \n",
      " [  1.00000000e+00   6.70000000e-01   7.41000000e+00 ...,   5.10715824e+04\n",
      "    1.61967906e+04   5.13663401e+03]\n",
      " [  1.00000000e+00   8.26000000e+00   2.93000000e+00 ...,   2.35371286e+04\n",
      "    2.16091727e+04   1.98391381e+04]\n",
      " [  1.00000000e+00   1.21000000e+00   2.18000000e+00 ...,   4.84604101e+04\n",
      "    7.04676605e+04   1.02469029e+05]]\n",
      "(560, 286)\n"
     ]
    }
   ],
   "source": [
    "print(X_train_transformed.shape)\n",
    "print(X_train_transformed)"
   ]
  },
  {
   "cell_type": "code",
   "execution_count": 19,
   "metadata": {},
   "outputs": [
    {
     "name": "stdout",
     "output_type": "stream",
     "text": [
      "\n",
      "Linear regression:\n",
      " [ 36.05286276]\n",
      "\n",
      "Polynomial regression:\n",
      " [ 41.47360915]\n"
     ]
    }
   ],
   "source": [
    "poly_linear_model = linear_model.LinearRegression()\n",
    "poly_linear_model.fit(X_train_transformed, Y_train)\n",
    "print(\"\\nLinear regression:\\n\", linear_regressor.predict(datapoint))\n",
    "print(\"\\nPolynomial regression:\\n\", poly_linear_model.predict(poly_datapoint))"
   ]
  }
 ],
 "metadata": {
  "kernelspec": {
   "display_name": "Python 3",
   "language": "python",
   "name": "python3"
  },
  "language_info": {
   "codemirror_mode": {
    "name": "ipython",
    "version": 3
   },
   "file_extension": ".py",
   "mimetype": "text/x-python",
   "name": "python",
   "nbconvert_exporter": "python",
   "pygments_lexer": "ipython3",
   "version": "3.5.1"
  }
 },
 "nbformat": 4,
 "nbformat_minor": 2
}
