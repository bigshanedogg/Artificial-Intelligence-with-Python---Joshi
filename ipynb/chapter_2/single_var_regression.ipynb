{
 "cells": [
  {
   "cell_type": "code",
   "execution_count": 2,
   "metadata": {
    "collapsed": true
   },
   "outputs": [],
   "source": [
    "import pickle\n",
    "import numpy as np\n",
    "from sklearn import linear_model\n",
    "import sklearn.metrics as sm\n",
    "import matplotlib.pyplot as plt"
   ]
  },
  {
   "cell_type": "code",
   "execution_count": 18,
   "metadata": {},
   "outputs": [],
   "source": [
    "input_file = 'data_singlevar_regr.txt'\n",
    "data = np.genfromtxt(input_file, delimiter=', ', dtype='str')\n",
    "data = [row.split(',') for row in data]\n",
    "data = np.array(data, dtype=float)\n",
    "X, Y = data[:, :-1], data[:, -1]"
   ]
  },
  {
   "cell_type": "code",
   "execution_count": 22,
   "metadata": {},
   "outputs": [],
   "source": [
    "#data split\n",
    "num_training = int(0.8*len(X))\n",
    "num_test = len(X) - num_training\n",
    "\n",
    "#training data\n",
    "X_train, Y_train = X[:num_training], Y[:num_training]\n",
    "X_test, Y_test = X[num_training:], Y[num_training:]"
   ]
  },
  {
   "cell_type": "code",
   "execution_count": 23,
   "metadata": {},
   "outputs": [
    {
     "name": "stderr",
     "output_type": "stream",
     "text": [
      "/Library/Frameworks/Python.framework/Versions/3.5/lib/python3.5/site-packages/scipy/linalg/basic.py:1018: RuntimeWarning: internal gelsd driver lwork query error, required iwork dimension not returned. This is likely the result of LAPACK bug 0038, fixed in LAPACK 3.2.2 (released July 21, 2010). Falling back to 'gelss' driver.\n",
      "  warnings.warn(mesg, RuntimeWarning)\n"
     ]
    }
   ],
   "source": [
    "regressor = linear_model.LinearRegression()\n",
    "regressor.fit(X_train, Y_train)\n",
    "Y_test_pred = regressor.predict(X_test)"
   ]
  },
  {
   "cell_type": "code",
   "execution_count": 25,
   "metadata": {},
   "outputs": [
    {
     "data": {
      "image/png": "[encoded data removed]",
      "text/plain": [
       "<matplotlib.figure.Figure at 0x1091d7f60>"
      ]
     },
     "metadata": {},
     "output_type": "display_data"
    }
   ],
   "source": [
    "plt.scatter(X_test, Y_test, color='green')\n",
    "plt.plot(X_test, Y_test_pred, color='black', linewidth=4)\n",
    "plt.xticks()\n",
    "plt.yticks()\n",
    "plt.show()"
   ]
  },
  {
   "cell_type": "code",
   "execution_count": 27,
   "metadata": {},
   "outputs": [
    {
     "name": "stdout",
     "output_type": "stream",
     "text": [
      "Linear regressor performance:\n",
      "Mean absolute error = 0.59\n",
      "Mean squared error = 0.49\n",
      "Median absolute error = 0.51\n",
      "Explain variance score = 0.86\n",
      "R2 score = 0.86\n"
     ]
    }
   ],
   "source": [
    "print(\"Linear regressor performance:\")\n",
    "print(\"Mean absolute error =\", round(sm.mean_absolute_error(Y_test, Y_test_pred), 2))\n",
    "print(\"Mean squared error =\", round(sm.mean_squared_error(Y_test, Y_test_pred), 2)) \n",
    "print(\"Median absolute error =\", round(sm.median_absolute_error(Y_test, Y_test_pred), 2)) \n",
    "print(\"Explain variance score =\", round(sm.explained_variance_score(Y_test, Y_test_pred), 2))\n",
    "print(\"R2 score =\", round(sm.r2_score(Y_test, Y_test_pred), 2))"
   ]
  },
  {
   "cell_type": "code",
   "execution_count": 28,
   "metadata": {
    "collapsed": true
   },
   "outputs": [],
   "source": [
    "#save model\n",
    "output_model_file = 'model.pkl'\n",
    "with open(output_model_file, 'wb') as fp : \n",
    "    pickle.dump(regressor, fp)"
   ]
  },
  {
   "cell_type": "code",
   "execution_count": 29,
   "metadata": {
    "collapsed": true
   },
   "outputs": [],
   "source": [
    "#load model\n",
    "with open(output_model_file, 'rb') as fp :\n",
    "    regressor_model = pickle.load(fp)"
   ]
  },
  {
   "cell_type": "code",
   "execution_count": 30,
   "metadata": {},
   "outputs": [
    {
     "name": "stdout",
     "output_type": "stream",
     "text": [
      "New mean absolute error = 0.59\n"
     ]
    }
   ],
   "source": [
    "Y_test_pred_new = regressor_model.predict(X_test)\n",
    "print(\"New mean absolute error =\", round(sm.mean_absolute_error(Y_test, Y_test_pred_new),2))"
   ]
  }
 ],
 "metadata": {
  "kernelspec": {
   "display_name": "Python 3",
   "language": "python",
   "name": "python3"
  },
  "language_info": {
   "codemirror_mode": {
    "name": "ipython",
    "version": 3
   },
   "file_extension": ".py",
   "mimetype": "text/x-python",
   "name": "python",
   "nbconvert_exporter": "python",
   "pygments_lexer": "ipython3",
   "version": "3.5.1"
  }
 },
 "nbformat": 4,
 "nbformat_minor": 2
}
