{
 "cells": [
  {
   "cell_type": "code",
   "execution_count": 1,
   "metadata": {
    "collapsed": true
   },
   "outputs": [],
   "source": [
    "from easyAI import TwoPlayersGame, id_solve, Human_Player, AI_Player\n",
    "from easyAI.AI import TT"
   ]
  },
  {
   "cell_type": "code",
   "execution_count": 2,
   "metadata": {
    "collapsed": true
   },
   "outputs": [],
   "source": [
    "class LastCoinStanding(TwoPlayersGame) : \n",
    "    def __init__(self, players) : #players: 총 플레이어 수\n",
    "        self.players = players\n",
    "        self.nplayer = 1 #1번 선수부터 게임 시작\n",
    "        self.num_coins = 25 #전체 동전의 수\n",
    "        self.max_coins = 4 #턴마다 가져갈 수 있는 최대 동전\n",
    "        \n",
    "\n",
    "    #가져갈 수 있는 동전 수의 범위\n",
    "    def possible_moves(self) : \n",
    "        return [str(x) for x in range(1, self.max_coins+1)]\n",
    "    \n",
    "    #가져간 동전 수만큼 제거\n",
    "    def make_move(self, move) : \n",
    "        self.num_coins -= int(move) \n",
    "        \n",
    "    #누가 마지막 동전을 가져갔는지 체크\n",
    "    def win(self) : \n",
    "        return self.num_coins <=0 \n",
    "    \n",
    "    #승자가 나타나면 게임 종료\n",
    "    def is_over(self) : \n",
    "        return self.win()\n",
    "    \n",
    "    \n",
    "    #승리시 점수 계산\n",
    "    def scoring(self) : \n",
    "        return 100 if self.win() else 0 \n",
    "    \n",
    "    #동전 뭉치에 남아있는 동전의 수 보여줌\n",
    "    def show(self) : \n",
    "        print(self.num_coins, 'coins left in the pile')"
   ]
  },
  {
   "cell_type": "code",
   "execution_count": 3,
   "metadata": {
    "collapsed": true
   },
   "outputs": [],
   "source": [
    "tt = TT()\n",
    "LastCoinStanding.ttentry = lambda self:self.num_coins #남은 동전 수를 반환하는 함수"
   ]
  },
  {
   "cell_type": "code",
   "execution_count": 4,
   "metadata": {},
   "outputs": [
    {
     "name": "stdout",
     "output_type": "stream",
     "text": [
      "d:2, a:0, m:1\n",
      "d:3, a:0, m:1\n",
      "d:4, a:0, m:1\n",
      "d:5, a:0, m:1\n",
      "d:6, a:0, m:1\n",
      "d:7, a:0, m:1\n",
      "d:8, a:0, m:1\n",
      "d:9, a:0, m:1\n",
      "d:10, a:100, m:4\n"
     ]
    }
   ],
   "source": [
    "#게임의 솔루션 찾기\n",
    "result, depth, move = id_solve(LastCoinStanding, range(2,20), win_score=100, tt=tt)\n",
    "#id_solve : 반복적인 심화 분석을 통해 게임의 해법 탐색, negamax 알고리즘으로 최적 경로 탐색\n",
    "#depth는 게임이 반복되는 깊이 (최대 몇 턴이나 진행되는지) 여기선 2~20 사이의 모든 깊이에 대한 탐색"
   ]
  },
  {
   "cell_type": "code",
   "execution_count": 5,
   "metadata": {},
   "outputs": [],
   "source": [
    "game = LastCoinStanding([AI_Player(tt), Human_Player])"
   ]
  },
  {
   "cell_type": "code",
   "execution_count": 6,
   "metadata": {},
   "outputs": [
    {
     "name": "stdout",
     "output_type": "stream",
     "text": [
      "25 coins left in the pile\n",
      "\n",
      "Move #1: player 1 plays 4 :\n",
      "21 coins left in the pile\n"
     ]
    },
    {
     "ename": "TypeError",
     "evalue": "ask_move() missing 1 required positional argument: 'game'",
     "output_type": "error",
     "traceback": [
      "\u001b[0;31m---------------------------------------------------------------------------\u001b[0m",
      "\u001b[0;31mTypeError\u001b[0m                                 Traceback (most recent call last)",
      "\u001b[0;32m<ipython-input-6-3248df74d737>\u001b[0m in \u001b[0;36m<module>\u001b[0;34m()\u001b[0m\n\u001b[0;32m----> 1\u001b[0;31m \u001b[0mgame\u001b[0m\u001b[0;34m.\u001b[0m\u001b[0mplay\u001b[0m\u001b[0;34m(\u001b[0m\u001b[0;34m)\u001b[0m\u001b[0;34m\u001b[0m\u001b[0m\n\u001b[0m",
      "\u001b[0;32m~/Desktop/jupyter_prac/AI_with_Python/chapter_9/easyAI/TwoPlayersGame.py\u001b[0m in \u001b[0;36mplay\u001b[0;34m(self, nmoves, verbose)\u001b[0m\n\u001b[1;32m     79\u001b[0m                 \u001b[0;32mbreak\u001b[0m\u001b[0;34m\u001b[0m\u001b[0m\n\u001b[1;32m     80\u001b[0m \u001b[0;34m\u001b[0m\u001b[0m\n\u001b[0;32m---> 81\u001b[0;31m             \u001b[0mmove\u001b[0m \u001b[0;34m=\u001b[0m \u001b[0mself\u001b[0m\u001b[0;34m.\u001b[0m\u001b[0mplayer\u001b[0m\u001b[0;34m.\u001b[0m\u001b[0mask_move\u001b[0m\u001b[0;34m(\u001b[0m\u001b[0mself\u001b[0m\u001b[0;34m)\u001b[0m\u001b[0;34m\u001b[0m\u001b[0m\n\u001b[0m\u001b[1;32m     82\u001b[0m             \u001b[0mhistory\u001b[0m\u001b[0;34m.\u001b[0m\u001b[0mappend\u001b[0m\u001b[0;34m(\u001b[0m\u001b[0;34m(\u001b[0m\u001b[0mdeepcopy\u001b[0m\u001b[0;34m(\u001b[0m\u001b[0mself\u001b[0m\u001b[0;34m)\u001b[0m\u001b[0;34m,\u001b[0m \u001b[0mmove\u001b[0m\u001b[0;34m)\u001b[0m\u001b[0;34m)\u001b[0m\u001b[0;34m\u001b[0m\u001b[0m\n\u001b[1;32m     83\u001b[0m             \u001b[0mself\u001b[0m\u001b[0;34m.\u001b[0m\u001b[0mmake_move\u001b[0m\u001b[0;34m(\u001b[0m\u001b[0mmove\u001b[0m\u001b[0;34m)\u001b[0m\u001b[0;34m\u001b[0m\u001b[0m\n",
      "\u001b[0;31mTypeError\u001b[0m: ask_move() missing 1 required positional argument: 'game'"
     ]
    }
   ],
   "source": [
    "game.play()"
   ]
  },
  {
   "cell_type": "code",
   "execution_count": null,
   "metadata": {
    "collapsed": true
   },
   "outputs": [],
   "source": []
  },
  {
   "cell_type": "code",
   "execution_count": null,
   "metadata": {
    "collapsed": true
   },
   "outputs": [],
   "source": []
  },
  {
   "cell_type": "code",
   "execution_count": null,
   "metadata": {
    "collapsed": true
   },
   "outputs": [],
   "source": []
  },
  {
   "cell_type": "code",
   "execution_count": null,
   "metadata": {
    "collapsed": true
   },
   "outputs": [],
   "source": []
  }
 ],
 "metadata": {
  "kernelspec": {
   "display_name": "Python 3",
   "language": "python",
   "name": "python3"
  },
  "language_info": {
   "codemirror_mode": {
    "name": "ipython",
    "version": 3
   },
   "file_extension": ".py",
   "mimetype": "text/x-python",
   "name": "python",
   "nbconvert_exporter": "python",
   "pygments_lexer": "ipython3",
   "version": "3.5.1"
  }
 },
 "nbformat": 4,
 "nbformat_minor": 2
}
