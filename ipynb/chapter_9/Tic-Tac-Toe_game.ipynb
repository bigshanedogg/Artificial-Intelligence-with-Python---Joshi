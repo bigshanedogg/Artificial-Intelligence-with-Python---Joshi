{
 "cells": [
  {
   "cell_type": "code",
   "execution_count": 1,
   "metadata": {
    "collapsed": true
   },
   "outputs": [],
   "source": [
    "from easyAI import TwoPlayersGame, AI_Player, Negamax\n",
    "from easyAI.Player import Human_Player"
   ]
  },
  {
   "cell_type": "code",
   "execution_count": 3,
   "metadata": {},
   "outputs": [],
   "source": [
    "class GameController(TwoPlayersGame) : \n",
    "    def __init__(self, players) : \n",
    "        self.players = players #플레이어 수 설정\n",
    "        self.nplayer = 1 #누가 먼저 게임 시작할지\n",
    "        self.board = [0]*9\n",
    "        \n",
    "    \n",
    "    #가능한 이동 경로 반환\n",
    "    def possible_moves(self) : \n",
    "        return [a+1 for a,b in enumerate(self.board) if b==0]\n",
    "    \n",
    "    #이동\n",
    "    def make_move(self, move) : \n",
    "        self.board[int(move)-1] = self.nplayer\n",
    "        \n",
    "    #상대방이 한 줄에 3개의 돌을 놓았는지 체크\n",
    "    def loss_condition(self) : #winning_condition\n",
    "        possible_combinations = [[1,2,3],\n",
    "                                 [4,5,6],\n",
    "                                 [7,8,9],\n",
    "                                 [1,4,7],\n",
    "                                 [2,5,8],\n",
    "                                 [3,6,9],\n",
    "                                 [1,5,9],\n",
    "                                 [3,5,7]]\n",
    "        \n",
    "        return any([all([(self.board[i-1]==self.nopponent) for i in combination]) for combination in possible_combinations])\n",
    "    \n",
    "    \n",
    "    #게임 종료 확인\n",
    "    def is_over(self) : \n",
    "        return (self.possible_moves()==[]) or self.loss_condition()\n",
    "    \n",
    "    \n",
    "    #현재 상황 출력\n",
    "    def show(self) : \n",
    "        print(\"\\n\"+\"\\n\".join([' '.join([[\".\", \"O\", \"X\"][self.board[3*j + i]] for i in range(3)]) for j in range(3)]))\n",
    "        \n",
    "    #점수 계산\n",
    "    def scoring(self) : \n",
    "        return -100 if self.loss_condition() else 0"
   ]
  },
  {
   "cell_type": "code",
   "execution_count": 4,
   "metadata": {},
   "outputs": [
    {
     "name": "stdout",
     "output_type": "stream",
     "text": [
      "\n",
      ". . .\n",
      ". . .\n",
      ". . .\n",
      "\n",
      "Player 1 what do you play ? 1\n",
      "\n",
      "Move #1: player 1 plays 1 :\n",
      "\n",
      "O . .\n",
      ". . .\n",
      ". . .\n",
      "\n",
      "Move #2: player 2 plays 5 :\n",
      "\n",
      "O . .\n",
      ". X .\n",
      ". . .\n",
      "\n",
      "Player 1 what do you play ? 3\n",
      "\n",
      "Move #3: player 1 plays 3 :\n",
      "\n",
      "O . O\n",
      ". X .\n",
      ". . .\n",
      "\n",
      "Move #4: player 2 plays 2 :\n",
      "\n",
      "O X O\n",
      ". X .\n",
      ". . .\n",
      "\n",
      "Player 1 what do you play ? 5\n",
      "\n",
      "Player 1 what do you play ? 4\n",
      "\n",
      "Move #5: player 1 plays 4 :\n",
      "\n",
      "O X O\n",
      "O X .\n",
      ". . .\n",
      "\n",
      "Move #6: player 2 plays 8 :\n",
      "\n",
      "O X O\n",
      "O X .\n",
      ". X .\n"
     ]
    },
    {
     "data": {
      "text/plain": [
       "[(<__main__.GameController at 0x104af8b38>, 1),\n",
       " (<__main__.GameController at 0x104af8c50>, 5),\n",
       " (<__main__.GameController at 0x104b00780>, 3),\n",
       " (<__main__.GameController at 0x104b00a58>, 2),\n",
       " (<__main__.GameController at 0x104b00c50>, 4),\n",
       " (<__main__.GameController at 0x104b00b70>, 8),\n",
       " <__main__.GameController at 0x104b006a0>]"
      ]
     },
     "execution_count": 4,
     "metadata": {},
     "output_type": "execute_result"
    }
   ],
   "source": [
    "algorithm = Negamax(7)\n",
    "GameController([Human_Player(), AI_Player(algorithm)]).play()"
   ]
  }
 ],
 "metadata": {
  "kernelspec": {
   "display_name": "Python 3",
   "language": "python",
   "name": "python3"
  },
  "language_info": {
   "codemirror_mode": {
    "name": "ipython",
    "version": 3
   },
   "file_extension": ".py",
   "mimetype": "text/x-python",
   "name": "python",
   "nbconvert_exporter": "python",
   "pygments_lexer": "ipython3",
   "version": "3.5.1"
  }
 },
 "nbformat": 4,
 "nbformat_minor": 2
}
