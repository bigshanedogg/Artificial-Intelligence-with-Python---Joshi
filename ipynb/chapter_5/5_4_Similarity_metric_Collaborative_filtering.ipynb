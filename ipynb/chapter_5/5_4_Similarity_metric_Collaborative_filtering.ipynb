{
 "cells": [
  {
   "cell_type": "markdown",
   "metadata": {},
   "source": [
    "# 1. Calculating similarity\n",
    "1) Euclidean score : 유클리드 거리에 반비례. 주로 유클리드 거리를 0~1로 정규화하고, '1-유클리드 거리'로 계산한다.<br>\n",
    "2) Pearson score : 두 객체 간의 상관관계를 측정한 값으로, 공분산과 개별 표준편차로 산정하며, -1~+1 사이의 값을 갖는다. <br>"
   ]
  },
  {
   "cell_type": "code",
   "execution_count": 1,
   "metadata": {
    "collapsed": true
   },
   "outputs": [],
   "source": [
    "import json\n",
    "import numpy as np"
   ]
  },
  {
   "cell_type": "code",
   "execution_count": 2,
   "metadata": {
    "collapsed": true
   },
   "outputs": [],
   "source": [
    "#euclidean_score fucntion\n",
    "def euclidean_score(dataset, user1, user2) : \n",
    "    #check if user1 & user2 exist\n",
    "    if user1 not in dataset : \n",
    "        raise TypeError(\"Cannot find \"+user1+\"in the dataset\")\n",
    "    if user2 not in dataset : \n",
    "        raise TypeError(\"Cannot find \"+user2+\"in the dataset\")\n",
    "        \n",
    "    #common movie of user1 & user2\n",
    "    common_movies = {}\n",
    "    \n",
    "    for item in dataset[user1] : \n",
    "        if item in dataset[user2] : \n",
    "            common_movies[item] = 1\n",
    "    \n",
    "    if not len(common_movies) : return 0 #공통 영화 없다면 점수는 0점으로 반환하고 함수 종료 \n",
    "    \n",
    "    squared_diff = []\n",
    "    for item in dataset[user1] : \n",
    "        if item in dataset[user2] :\n",
    "            squared_diff.append(np.square(dataset[user1][item] - dataset[user2][item])) #두 유저의 평점 차이 제곱\n",
    "        euclidean_dist = np.sqrt(np.sum(squared_diff)) #유클리디언 거리\n",
    "        return 1/(1+euclidean_dist)"
   ]
  },
  {
   "cell_type": "code",
   "execution_count": 3,
   "metadata": {
    "collapsed": true
   },
   "outputs": [],
   "source": [
    "#Pearson_score function\n",
    "def pearson_score(dataset, user1, user2) : \n",
    "    #check if user1 & user2 exist\n",
    "    if user1 not in dataset : \n",
    "        raise TypeError(\"Cannot find \"+user1+\"in the dataset\")\n",
    "    if user2 not in dataset : \n",
    "        raise TypeError(\"Cannot find \"+user2+\"in the dataset\")\n",
    "        \n",
    "    #common movie of user1 & user2\n",
    "    common_movies = {}\n",
    "    \n",
    "    for item in dataset[user1] : \n",
    "        if item in dataset[user2] : \n",
    "            common_movies[item] = 1\n",
    "    \n",
    "    if not len(common_movies) : return 0 #공통 영화 없다면 점수는 0점으로 반환하고 함수 종료 \n",
    "    \n",
    "    #각 유저별 공통 영화에 대한 평점 합\n",
    "    user1_sum = np.sum([dataset[user1][item] for item in common_movies])\n",
    "    user2_sum = np.sum([dataset[user2][item] for item in common_movies])\n",
    "    #각 유저별 공통 영화에 대한 평점 제곱합\n",
    "    user1_squared_sum = np.sum([np.square(dataset[user1][item]) for item in common_movies])\n",
    "    user2_squared_sum = np.sum([np.square(dataset[user2][item]) for item in common_movies])\n",
    "    \n",
    "    #공통되는 영화의 두 유저 평점의 내적(=곱의 합)\n",
    "    sum_of_products = np.sum([dataset[user1][item]*dataset[user2][item] for item in common_movies])\n",
    "    \n",
    "    #피어슨 상관도 점수를 위한 매개변수 계산\n",
    "    Sxy = sum_of_products - (user1_sum*user2_sum/len(common_movies))\n",
    "    Sxx = user1_squared_sum - np.square(user1_sum)/len(common_movies)\n",
    "    Syy = user2_squared_sum - np.square(user2_sum)/len(common_movies)\n",
    "    \n",
    "    if Sxx*Syy==0 : return 0 #두 객체 중 하나라도 0이면(= 편차가 없다면) 점수를 구할 수 없으니 0을 반환하고 함수 종료.\n",
    "    else : return Sxy/np.sqrt(Sxx*Syy)"
   ]
  },
  {
   "cell_type": "markdown",
   "metadata": {},
   "source": [
    "#### 피어슨 상관계수 = 공분산/(분산1*분산2)\n",
    "- 두 객체의 분산이 모두 0이 아닐 때 구할 수 있다. \n",
    "- 아래 코드를 보면, 얼핏 분산을 구하는 식과 비슷한데 조금 다르다.<br>\n",
    ">Sxx = user1_squared_sum - np.square(user1_sum)/len(common_movies)<br>\n",
    ">Syy = user2_squared_sum - np.square(user2_sum)/len(common_movies)<br>\n",
    "\n",
    "- 근데 위 2개의 코드는 분산이라고 보기엔 조금 이상하다. 분산이라면 아래와 같은 식이었어야 한다.<br>\n",
    ">Sxx = user1_squared_sum/len(common_movies) - np.square(user1_sum/len(common_movies))<br>\n",
    ">Syy = user2_squared_sum/len(common_movies) - np.square(user2_sum/len(common_movies))<br>\n",
    "\n",
    "- 공분산도 마찬가지로 미묘하게 다르다. (첫번째 식은 코드에서 주어진 식, 두번째 식이 일반적인 공분산을 구하는 식) <br>\n",
    ">Sxy = sum_of_products - (user1_sum*user2_sum/len(common_movies)) <br>\n",
    ">Sxy = sum_of_products/len(common_movies) - user1_sum*user2_sum/np.square(len(common_movies))<br>\n",
    "\n",
    "    (피어슨 점수라 조금 다른건가....)"
   ]
  },
  {
   "cell_type": "code",
   "execution_count": 4,
   "metadata": {
    "collapsed": true
   },
   "outputs": [],
   "source": [
    "ratings_file = \"ratings.json\"\n",
    "with open(ratings_file, 'r') as fp : \n",
    "    data = json.loads(fp.read())"
   ]
  },
  {
   "cell_type": "code",
   "execution_count": 5,
   "metadata": {},
   "outputs": [
    {
     "data": {
      "text/plain": [
       "{'Adam Cohen': {'Goodfellas': 4.5,\n",
       "  'Roman Holiday': 3.0,\n",
       "  'Scarface': 3.0,\n",
       "  'The Apartment': 1.0,\n",
       "  'Vertigo': 3.5},\n",
       " 'Bill Duffy': {'Goodfellas': 4.5,\n",
       "  'Scarface': 5.0,\n",
       "  'The Apartment': 1.0,\n",
       "  'Vertigo': 4.5},\n",
       " 'Brenda Peterson': {'Goodfellas': 2.0,\n",
       "  'Raging Bull': 1.0,\n",
       "  'Roman Holiday': 4.5,\n",
       "  'Scarface': 1.5,\n",
       "  'The Apartment': 5.0,\n",
       "  'Vertigo': 3.0},\n",
       " 'Chris Duncan': {'Raging Bull': 4.5, 'The Apartment': 1.5},\n",
       " 'Clarissa Jackson': {'Goodfellas': 2.5,\n",
       "  'Raging Bull': 4.0,\n",
       "  'Roman Holiday': 1.5,\n",
       "  'Scarface': 4.5,\n",
       "  'The Apartment': 1.0,\n",
       "  'Vertigo': 5.0},\n",
       " 'David Smith': {'Goodfellas': 4.5,\n",
       "  'Raging Bull': 3.0,\n",
       "  'Scarface': 4.5,\n",
       "  'The Apartment': 1.0,\n",
       "  'Vertigo': 4},\n",
       " 'Julie Hammel': {'Goodfellas': 3.0, 'Roman Holiday': 4.5, 'Scarface': 2.5},\n",
       " 'Samuel Miller': {'Goodfellas': 5.0,\n",
       "  'Raging Bull': 5.0,\n",
       "  'Roman Holiday': 1.0,\n",
       "  'Scarface': 3.5,\n",
       "  'The Apartment': 1.0}}"
      ]
     },
     "execution_count": 5,
     "metadata": {},
     "output_type": "execute_result"
    }
   ],
   "source": [
    "data"
   ]
  },
  {
   "cell_type": "code",
   "execution_count": 6,
   "metadata": {
    "collapsed": true
   },
   "outputs": [],
   "source": [
    "user1 = \"David Smith\"\n",
    "user2 = \"Bill Duffy\"\n",
    "score_types = [\"Euclidean\", \"Pearson\"]"
   ]
  },
  {
   "cell_type": "code",
   "execution_count": 7,
   "metadata": {},
   "outputs": [
    {
     "name": "stdout",
     "output_type": "stream",
     "text": [
      "\n",
      "Euclidean score\n",
      "0.666666666667\n",
      "\n",
      "Pearson score:\n",
      "0.99099243041\n"
     ]
    }
   ],
   "source": [
    "for score_type in score_types : \n",
    "    if score_type == \"Euclidean\" : \n",
    "        print(\"\\nEuclidean score\")\n",
    "        print(euclidean_score(data, user1, user2))\n",
    "    else :\n",
    "        print(\"\\nPearson score:\")\n",
    "        print(pearson_score(data, user1, user2))"
   ]
  },
  {
   "cell_type": "markdown",
   "metadata": {},
   "source": [
    "<br><hr><br>"
   ]
  },
  {
   "cell_type": "markdown",
   "metadata": {
    "collapsed": true
   },
   "source": [
    "# 2. Finding similar user with Collaborative-Filtering \n",
    "- 협업 필터링이라고 하는 것은 여러 객체(유저, 아이템, 혹은 컨텐츠)의 정보를 함께 활용해 거리가 먼 객체를 제거해나가는 것이기 때문이라고 한다. 다른 필터링 추천 방법(content-based filtering)과의 차이점은 유사도가 높은(거리가 가까운) 유저의 정보를 이용한다는 점이다.\n",
    "- Collaborative filtering의 종류 : \n",
    "    1. content-based filtering : 현재 유저가 본 아이템과 유사한 아이템을 추천. 단점은 유저가 본 카테고리에 속하는 아이템만을 추천할 수 있다.\n",
    "    2. user-based collaborative filtering : 현재 유저와 유사도가 높은 유저의 상품 목록을 추천한다. 본 절에서 예시로 사용하는 추천은 사실상 user-based collaborative filtering이라고 할 수 있다. 유저와의 유사도를 평가할 때 본 절의 예시처럼 제품에 대한 평가를 기준으로 평가할 수도 있고, 또 하나의 가장 흔한 방법은 성별/연령대/지역 등의 인구통계학적 정보를 이용할 수도 있다.\n",
    "    3. item-based collaborative filtering : 현재 유저와 유사도가 높은 유저를 고르고, 그 유저의 상품 특성과 \n",
    "\n",
    "\n",
    "- refer : 영화 추천을 위한 앙상블 모델"
   ]
  },
  {
   "cell_type": "code",
   "execution_count": 8,
   "metadata": {
    "collapsed": true
   },
   "outputs": [],
   "source": [
    "user = \"Bill Duffy\""
   ]
  },
  {
   "cell_type": "code",
   "execution_count": 9,
   "metadata": {
    "collapsed": true
   },
   "outputs": [],
   "source": [
    "#피어슨 점수에 따라 상위 n명의 유저와 피어슨 점수 반환하는 함수\n",
    "def find_similar_users(dataset, user, num_users) : \n",
    "    if user not in dataset : \n",
    "        raise TypeError(\"Cannot find \"+user+\" in the dataset\")\n",
    "        \n",
    "    #user 본인이 아닌 유저에 한해, [유저, 피어슨거리]의 형태의 리스트를 원소로 갖는 리스트 생성\n",
    "    scores = np.array([[x, pearson_score(dataset, user, x)] for x in dataset if x!=user]) #list-comprehension 짱짱\n",
    "\n",
    "    #점수순으로 sorting한 뒤 그 인덱스를 저장하고 그 중 top n명만 뽑는다.\n",
    "    scores_sorted = np.argsort(scores[:, 1][::-1]) #cf. flipud 쓰면 역순으로 정렬\n",
    "    top_users = scores_sorted[:num_users] #top n user의 인덱스\n",
    "    \n",
    "    return scores[top_users]    "
   ]
  },
  {
   "cell_type": "code",
   "execution_count": 10,
   "metadata": {},
   "outputs": [
    {
     "name": "stdout",
     "output_type": "stream",
     "text": [
      "\n",
      "Users similar to Bill Duffy:\n",
      "\n",
      "User\t\t\tSimilarity score\n",
      "----------------------------------------\n",
      "David Smith \t\t 0.99\n",
      "Chris Duncan \t\t 0.0\n",
      "Julie Hammel \t\t -1.0\n"
     ]
    }
   ],
   "source": [
    "print(\"\\nUsers similar to \"+user+\":\\n\")\n",
    "similar_users = find_similar_users(data, user, 3)\n",
    "print(\"User\\t\\t\\tSimilarity score\")\n",
    "print(\"-\"*40)\n",
    "for item in similar_users : \n",
    "    print(item[0], \"\\t\\t\", round(float(item[1]),2))"
   ]
  },
  {
   "cell_type": "markdown",
   "metadata": {},
   "source": [
    "<br><hr><br>"
   ]
  },
  {
   "cell_type": "markdown",
   "metadata": {},
   "source": [
    "# 3. Recommendation system using similarity metric\n",
    "- 사실 위 과정까지 끝났다면, 이건 별 거 없다... 툭 까놓고 앞서 구한 top n 유저가 본 영화 중에 본인이 안 본 영화만 리스트업하는 것"
   ]
  },
  {
   "cell_type": "code",
   "execution_count": 11,
   "metadata": {
    "collapsed": true
   },
   "outputs": [],
   "source": [
    "def get_recommendations(dataset, input_user) : \n",
    "    if input_user not in dataset : \n",
    "        raise TypeError(\"Cannot find \"+input_user+\" in the dataset\")\n",
    "    \n",
    "    overall_scores = {}\n",
    "    similarity_scores = {}\n",
    "    \n",
    "    for user in [x for x in dataset if x!=input_user] : \n",
    "        similarity_score = pearson_score(dataset, input_user, user)\n",
    "        if similarity_score <= 0 : continue\n",
    "        \n",
    "        #input_user가 보지 않은 영화만 filtered_list에 저장한다.\n",
    "        filtered_list = [x for x in dataset[user] if x not in dataset[input_user] or dataset[input_user][x]==0]\n",
    "        \n",
    "        for item in filtered_list : \n",
    "            if item in overall_scores : #overall_scores에 있으면(이미 한번 추천된 영화라면), 가중치*평점을 더해서 추천 점수를 갱신하고\n",
    "                overall_scores[item] += dataset[user][item]*similarity_score\n",
    "            else : #overall_scores에 없으면(아직 추천된 적 없는 영화라면), 새로운 key:value쌍을 사전에 추가한다. \n",
    "                overall_scores.update({item : dataset[user][item]*similarity_score})\n",
    "                \n",
    "            if item in similarity_scores : \n",
    "                similarity_scores[item] += similarity_score\n",
    "            else : \n",
    "                similarity_scores.update({item : similarity_score})\n",
    "                \n",
    "    if not len(overall_scores) : \n",
    "        return [\"No recommendations possible\"]\n",
    "    \n",
    "    movie_scores = np.array([[score/similarity_scores[item], item] for item, score in overall_scores.items()])\n",
    "    #위 리스트 컴프리헨션에서 item: 필터링된 영화리스트에 속한 영화 품목, score: 해당 영화품목에 대한 유저들의 가중점수의 합 을 의미한다.\n",
    "    #결국 movie_scores = '[Σ(영화평점*피어슨점수)/Σ피어슨점수, 영화품목]'로 이루어진 numpy 배열이며, 내림차순으로 정렬해 영화를 추천한다.\n",
    "    movie_scores = movie_scores[np.argsort(movie_scores[:,0])[::-1]]\n",
    "    \n",
    "    movie_recommendations = [movie for _, movie in movie_scores]\n",
    "    return movie_recommendations"
   ]
  },
  {
   "cell_type": "code",
   "execution_count": 12,
   "metadata": {
    "collapsed": true
   },
   "outputs": [],
   "source": [
    "ratings_file = \"ratings.json\"\n",
    "with open(ratings_file, 'r') as fp : \n",
    "    data = json.loads(fp.read())"
   ]
  },
  {
   "cell_type": "code",
   "execution_count": 13,
   "metadata": {
    "collapsed": true
   },
   "outputs": [],
   "source": [
    "user = \"Chris Duncan\""
   ]
  },
  {
   "cell_type": "code",
   "execution_count": 14,
   "metadata": {},
   "outputs": [
    {
     "name": "stdout",
     "output_type": "stream",
     "text": [
      "\n",
      "Movie recommendations for Chris Duncan:\n",
      "1. Vertigo\n",
      "2. Scarface\n",
      "3. Goodfellas\n",
      "4. Roman Holiday\n"
     ]
    }
   ],
   "source": [
    "print(\"\\nMovie recommendations for \"+user+\":\")\n",
    "movies = get_recommendations(data, user)\n",
    "for i, movie in enumerate(movies) : \n",
    "    print(str(i+1)+\". \"+movie)"
   ]
  },
  {
   "cell_type": "markdown",
   "metadata": {},
   "source": [
    "### 생각해볼 점...\n",
    "- 평소 추천 시스템을 만들 일이 있을 때 새로운 유저가 들어올 때마다 유사도 테이블을 갱신해야 한다. 근데 실제로 CF 뿐만이 아니라 대부분의 추천 시스템이 그러한데, 혹시 아이디어 있으신 분?"
   ]
  },
  {
   "cell_type": "code",
   "execution_count": null,
   "metadata": {
    "collapsed": true
   },
   "outputs": [],
   "source": []
  },
  {
   "cell_type": "code",
   "execution_count": null,
   "metadata": {
    "collapsed": true
   },
   "outputs": [],
   "source": []
  },
  {
   "cell_type": "code",
   "execution_count": null,
   "metadata": {
    "collapsed": true
   },
   "outputs": [],
   "source": []
  }
 ],
 "metadata": {
  "kernelspec": {
   "display_name": "Python 3",
   "language": "python",
   "name": "python3"
  },
  "language_info": {
   "codemirror_mode": {
    "name": "ipython",
    "version": 3
   },
   "file_extension": ".py",
   "mimetype": "text/x-python",
   "name": "python",
   "nbconvert_exporter": "python",
   "pygments_lexer": "ipython3",
   "version": "3.5.1"
  }
 },
 "nbformat": 4,
 "nbformat_minor": 2
}
