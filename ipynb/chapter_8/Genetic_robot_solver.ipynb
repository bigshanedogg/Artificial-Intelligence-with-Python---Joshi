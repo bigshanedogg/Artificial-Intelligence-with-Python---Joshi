{
 "cells": [
  {
   "cell_type": "code",
   "execution_count": 1,
   "metadata": {
    "collapsed": true
   },
   "outputs": [],
   "source": [
    "import copy\n",
    "import random\n",
    "from functools import partial\n",
    "import numpy as np\n",
    "from deap import algorithms, base, creator, tools, gp"
   ]
  },
  {
   "cell_type": "code",
   "execution_count": 12,
   "metadata": {
    "collapsed": true
   },
   "outputs": [],
   "source": [
    "class RobotController(object) : \n",
    "    def __init__(self, max_moves) : \n",
    "        self.max_moves = max_moves\n",
    "        self.moves = 0\n",
    "        self.consumed = 0\n",
    "        self.routine = None\n",
    "        self.direction = [\"north\", \"est\", \"south\", \"west\"]\n",
    "        self.direction_row = [1, 0, -1, 0]\n",
    "        self.direction_col = [0, 1, 0, -1]\n",
    "        \n",
    "    #reset 함수 정의\n",
    "    def _reset(self) : \n",
    "        self.row = self.row_start\n",
    "        self.col = self.col_start\n",
    "        self.direction = 1\n",
    "        self.moves = 0\n",
    "        self.consumed = 0\n",
    "        self.matrix_exc = copy.deepcopy(self.matrix)\n",
    "        \n",
    "    \n",
    "    #조건연산자 정의\n",
    "    def _conditional(self, condition, out1, out2) : \n",
    "        out1() if condition() else out2()\n",
    "        \n",
    "    #방향 회전 & 이동 함수들 정의\n",
    "    def turn_left(self) : \n",
    "        if self.moves < self.max_moves : \n",
    "            self.moves += 1\n",
    "            self.direction = (self.direction -1) %4\n",
    "            \n",
    "    def turn_right(self) : \n",
    "        if self.moves < self.max_moves : \n",
    "            self.moves += 1\n",
    "            self.direction = (self.direction +1) %4\n",
    "            \n",
    "    def move_forward(self) : \n",
    "        if self.moves < self.max_moves : \n",
    "            self.moves += 1\n",
    "            self.row = (self.row + self.direction_row[self.direction]) % self.matrix_row\n",
    "            self.col = (self.col + self.direction_col[self.direction]) % self.matrix_col\n",
    "            \n",
    "            if self.matrix_exc[self.row][self.col] == \"target\" : \n",
    "                self.consumed += 1\n",
    "                \n",
    "            self.matrix_exc[self.row][self.col] = \"passed\"\n",
    "            \n",
    "    def sense_target(self) : \n",
    "        ahead_row = (self.row + self.direction_row[self.direction]) % self.matrix_row\n",
    "        ahead_col = (self.col + self.direction_col[self.direction]) % self.matrix_col\n",
    "        return self.matrix_exc[ahead_row][ahead_col] == \"target\"\n",
    "    \n",
    "    def if_target_ahead(self, out1, out2) : \n",
    "        return partial(self._conditional, self.sense_target, out1, out2) \n",
    "    \n",
    "    def run(self, routin) : \n",
    "        self._reset()\n",
    "        while self.moves < self.max_moves : \n",
    "            routin()\n",
    "            \n",
    "    def traverse_map(self, matrix) : \n",
    "        self.matrix = list()\n",
    "        for i, line in enumerate(matrix) : \n",
    "            self.matrix.append(list())\n",
    "            \n",
    "        for j, col in enumerate(line) : \n",
    "            if col == \"#\" : \n",
    "                self.matrix[-1].append(\"target\") \n",
    "                \n",
    "            elif col == \".\" : \n",
    "                self.matrix[-1].append(\"empty\")\n",
    "                \n",
    "            elif col == \"S\" : \n",
    "                self.matrix[-1].append(\"empty\") \n",
    "                self.row_start = i\n",
    "                self.row = i\n",
    "                self.col_start = j\n",
    "                self.col = j\n",
    "                self.direction = 1\n",
    "                \n",
    "        self.matrix_row = len(self.matrix)\n",
    "        self.matrix_col = len(self.matrix[0])\n",
    "        self.matrix_exc = copy.deepcopy(self.matrix)"
   ]
  },
  {
   "cell_type": "code",
   "execution_count": 13,
   "metadata": {
    "collapsed": true
   },
   "outputs": [],
   "source": [
    "#입력 전달 인자의 수에 따라 함수를 생성하는 클래스\n",
    "class Prog(object) : \n",
    "    def _progn(self, *args) : \n",
    "        for arg in args : \n",
    "            arg()\n",
    "            \n",
    "    def prog2(self, out1, out2) : \n",
    "        return partial(self._progn, out1, out2)\n",
    "    \n",
    "    def prog3(self, out1, out2, out3) : \n",
    "        return partial(self._progn, out1, out2, out3)"
   ]
  },
  {
   "cell_type": "code",
   "execution_count": 14,
   "metadata": {
    "collapsed": true
   },
   "outputs": [],
   "source": [
    "def eval_func(individual) : \n",
    "    global robot, pset\n",
    "    \n",
    "    routine = gp.compile(individual, pset) \n",
    "    \n",
    "    robot.run(routine)\n",
    "    return robot.consumed, "
   ]
  },
  {
   "cell_type": "code",
   "execution_count": 15,
   "metadata": {
    "collapsed": true
   },
   "outputs": [],
   "source": [
    "def create_toolbox():\n",
    "    global robot, pset\n",
    "\n",
    "    pset = gp.PrimitiveSet(\"MAIN\", 0)\n",
    "    pset.addPrimitive(robot.if_target_ahead, 2)\n",
    "    pset.addPrimitive(Prog().prog2, 2)\n",
    "    pset.addPrimitive(Prog().prog3, 3)\n",
    "    pset.addTerminal(robot.move_forward)\n",
    "    pset.addTerminal(robot.turn_left)\n",
    "    pset.addTerminal(robot.turn_right)\n",
    "\n",
    "    creator.create(\"FitnessMax\", base.Fitness, weights=(1.0,))\n",
    "    creator.create(\"Individual\", gp.PrimitiveTree, fitness=creator.FitnessMax)\n",
    "\n",
    "    toolbox = base.Toolbox()\n",
    "\n",
    "    # Attribute generator\n",
    "    toolbox.register(\"expr_init\", gp.genFull, pset=pset, min_=1, max_=2)\n",
    "\n",
    "    # Structure initializers\n",
    "    toolbox.register(\"individual\", tools.initIterate, creator.Individual, toolbox.expr_init)\n",
    "    toolbox.register(\"population\", tools.initRepeat, list, toolbox.individual)\n",
    "\n",
    "    toolbox.register(\"evaluate\", eval_func)\n",
    "    toolbox.register(\"select\", tools.selTournament, tournsize=7)\n",
    "    toolbox.register(\"mate\", gp.cxOnePoint)\n",
    "    toolbox.register(\"expr_mut\", gp.genFull, min_=0, max_=2)\n",
    "    toolbox.register(\"mutate\", gp.mutUniform, expr=toolbox.expr_mut, pset=pset)\n",
    "\n",
    "    return toolbox"
   ]
  },
  {
   "cell_type": "code",
   "execution_count": 16,
   "metadata": {},
   "outputs": [
    {
     "name": "stderr",
     "output_type": "stream",
     "text": [
      "/Library/Frameworks/Python.framework/Versions/3.5/lib/python3.5/site-packages/deap/creator.py:141: RuntimeWarning: A class named 'FitnessMax' has already been created and it will be overwritten. Consider deleting previous creation of that class or rename it.\n",
      "  RuntimeWarning)\n",
      "/Library/Frameworks/Python.framework/Versions/3.5/lib/python3.5/site-packages/deap/creator.py:141: RuntimeWarning: A class named 'Individual' has already been created and it will be overwritten. Consider deleting previous creation of that class or rename it.\n",
      "  RuntimeWarning)\n"
     ]
    }
   ],
   "source": [
    "global robot\n",
    "\n",
    "random.seed(7)\n",
    "\n",
    "#최대 이동거리 정의\n",
    "max_moves = 750\n",
    "#로봇 오브젝트 생성\n",
    "robot = RobotController(max_moves) \n",
    "#툴박스 생성\n",
    "toolbox = create_toolbox()"
   ]
  },
  {
   "cell_type": "code",
   "execution_count": 17,
   "metadata": {
    "collapsed": true
   },
   "outputs": [],
   "source": [
    "#지도 데이터 읽기\n",
    "with open(\"target_map.txt\", \"r\") as fp : \n",
    "    robot.traverse_map(fp)"
   ]
  },
  {
   "cell_type": "code",
   "execution_count": 18,
   "metadata": {
    "collapsed": true
   },
   "outputs": [],
   "source": [
    "#집단과 명예의전당 변수 정의\n",
    "population = toolbox.population(n=400)\n",
    "hall_of_fame = tools.HallOfFame(1)"
   ]
  },
  {
   "cell_type": "code",
   "execution_count": 19,
   "metadata": {
    "collapsed": true
   },
   "outputs": [],
   "source": [
    "#통계 정보 등록\n",
    "stats = tools.Statistics(lambda x : x.fitness.values)\n",
    "stats.register(\"avg\", np.mean)\n",
    "stats.register(\"std\", np.std)\n",
    "stats.register(\"min\", np.min)\n",
    "stats.register(\"max\", np.max)"
   ]
  },
  {
   "cell_type": "code",
   "execution_count": 20,
   "metadata": {
    "collapsed": true
   },
   "outputs": [],
   "source": [
    "#매개변수 정의\n",
    "probab_crossover = 0.4\n",
    "probab_mutate = 0.3\n",
    "num_generations = 50"
   ]
  },
  {
   "cell_type": "code",
   "execution_count": 21,
   "metadata": {},
   "outputs": [
    {
     "ename": "AttributeError",
     "evalue": "'RobotController' object has no attribute 'row_start'",
     "output_type": "error",
     "traceback": [
      "\u001b[0;31m---------------------------------------------------------------------------\u001b[0m",
      "\u001b[0;31mAttributeError\u001b[0m                            Traceback (most recent call last)",
      "\u001b[0;32m<ipython-input-21-b0d1934a3c8b>\u001b[0m in \u001b[0;36m<module>\u001b[0;34m()\u001b[0m\n\u001b[1;32m      2\u001b[0m algorithms.eaSimple(population, toolbox, probab_crossover,\n\u001b[1;32m      3\u001b[0m                    \u001b[0mprobab_mutate\u001b[0m\u001b[0;34m,\u001b[0m \u001b[0mnum_generations\u001b[0m\u001b[0;34m,\u001b[0m \u001b[0mstats\u001b[0m\u001b[0;34m,\u001b[0m\u001b[0;34m\u001b[0m\u001b[0m\n\u001b[0;32m----> 4\u001b[0;31m                    halloffame = hall_of_fame)\n\u001b[0m",
      "\u001b[0;32m/Library/Frameworks/Python.framework/Versions/3.5/lib/python3.5/site-packages/deap/algorithms.py\u001b[0m in \u001b[0;36meaSimple\u001b[0;34m(population, toolbox, cxpb, mutpb, ngen, stats, halloffame, verbose)\u001b[0m\n\u001b[1;32m    149\u001b[0m     \u001b[0minvalid_ind\u001b[0m \u001b[0;34m=\u001b[0m \u001b[0;34m[\u001b[0m\u001b[0mind\u001b[0m \u001b[0;32mfor\u001b[0m \u001b[0mind\u001b[0m \u001b[0;32min\u001b[0m \u001b[0mpopulation\u001b[0m \u001b[0;32mif\u001b[0m \u001b[0;32mnot\u001b[0m \u001b[0mind\u001b[0m\u001b[0;34m.\u001b[0m\u001b[0mfitness\u001b[0m\u001b[0;34m.\u001b[0m\u001b[0mvalid\u001b[0m\u001b[0;34m]\u001b[0m\u001b[0;34m\u001b[0m\u001b[0m\n\u001b[1;32m    150\u001b[0m     \u001b[0mfitnesses\u001b[0m \u001b[0;34m=\u001b[0m \u001b[0mtoolbox\u001b[0m\u001b[0;34m.\u001b[0m\u001b[0mmap\u001b[0m\u001b[0;34m(\u001b[0m\u001b[0mtoolbox\u001b[0m\u001b[0;34m.\u001b[0m\u001b[0mevaluate\u001b[0m\u001b[0;34m,\u001b[0m \u001b[0minvalid_ind\u001b[0m\u001b[0;34m)\u001b[0m\u001b[0;34m\u001b[0m\u001b[0m\n\u001b[0;32m--> 151\u001b[0;31m     \u001b[0;32mfor\u001b[0m \u001b[0mind\u001b[0m\u001b[0;34m,\u001b[0m \u001b[0mfit\u001b[0m \u001b[0;32min\u001b[0m \u001b[0mzip\u001b[0m\u001b[0;34m(\u001b[0m\u001b[0minvalid_ind\u001b[0m\u001b[0;34m,\u001b[0m \u001b[0mfitnesses\u001b[0m\u001b[0;34m)\u001b[0m\u001b[0;34m:\u001b[0m\u001b[0;34m\u001b[0m\u001b[0m\n\u001b[0m\u001b[1;32m    152\u001b[0m         \u001b[0mind\u001b[0m\u001b[0;34m.\u001b[0m\u001b[0mfitness\u001b[0m\u001b[0;34m.\u001b[0m\u001b[0mvalues\u001b[0m \u001b[0;34m=\u001b[0m \u001b[0mfit\u001b[0m\u001b[0;34m\u001b[0m\u001b[0m\n\u001b[1;32m    153\u001b[0m \u001b[0;34m\u001b[0m\u001b[0m\n",
      "\u001b[0;32m<ipython-input-14-43203747bc95>\u001b[0m in \u001b[0;36meval_func\u001b[0;34m(individual)\u001b[0m\n\u001b[1;32m      4\u001b[0m     \u001b[0mroutine\u001b[0m \u001b[0;34m=\u001b[0m \u001b[0mgp\u001b[0m\u001b[0;34m.\u001b[0m\u001b[0mcompile\u001b[0m\u001b[0;34m(\u001b[0m\u001b[0mindividual\u001b[0m\u001b[0;34m,\u001b[0m \u001b[0mpset\u001b[0m\u001b[0;34m)\u001b[0m\u001b[0;34m\u001b[0m\u001b[0m\n\u001b[1;32m      5\u001b[0m \u001b[0;34m\u001b[0m\u001b[0m\n\u001b[0;32m----> 6\u001b[0;31m     \u001b[0mrobot\u001b[0m\u001b[0;34m.\u001b[0m\u001b[0mrun\u001b[0m\u001b[0;34m(\u001b[0m\u001b[0mroutine\u001b[0m\u001b[0;34m)\u001b[0m\u001b[0;34m\u001b[0m\u001b[0m\n\u001b[0m\u001b[1;32m      7\u001b[0m     \u001b[0;32mreturn\u001b[0m \u001b[0mrobot\u001b[0m\u001b[0;34m.\u001b[0m\u001b[0mconsumed\u001b[0m\u001b[0;34m,\u001b[0m\u001b[0;34m\u001b[0m\u001b[0m\n",
      "\u001b[0;32m<ipython-input-12-1de3173430c3>\u001b[0m in \u001b[0;36mrun\u001b[0;34m(self, routin)\u001b[0m\n\u001b[1;32m     54\u001b[0m \u001b[0;34m\u001b[0m\u001b[0m\n\u001b[1;32m     55\u001b[0m     \u001b[0;32mdef\u001b[0m \u001b[0mrun\u001b[0m\u001b[0;34m(\u001b[0m\u001b[0mself\u001b[0m\u001b[0;34m,\u001b[0m \u001b[0mroutin\u001b[0m\u001b[0;34m)\u001b[0m \u001b[0;34m:\u001b[0m\u001b[0;34m\u001b[0m\u001b[0m\n\u001b[0;32m---> 56\u001b[0;31m         \u001b[0mself\u001b[0m\u001b[0;34m.\u001b[0m\u001b[0m_reset\u001b[0m\u001b[0;34m(\u001b[0m\u001b[0;34m)\u001b[0m\u001b[0;34m\u001b[0m\u001b[0m\n\u001b[0m\u001b[1;32m     57\u001b[0m         \u001b[0;32mwhile\u001b[0m \u001b[0mself\u001b[0m\u001b[0;34m.\u001b[0m\u001b[0mmoves\u001b[0m \u001b[0;34m<\u001b[0m \u001b[0mself\u001b[0m\u001b[0;34m.\u001b[0m\u001b[0mmax_moves\u001b[0m \u001b[0;34m:\u001b[0m\u001b[0;34m\u001b[0m\u001b[0m\n\u001b[1;32m     58\u001b[0m             \u001b[0mroutin\u001b[0m\u001b[0;34m(\u001b[0m\u001b[0;34m)\u001b[0m\u001b[0;34m\u001b[0m\u001b[0m\n",
      "\u001b[0;32m<ipython-input-12-1de3173430c3>\u001b[0m in \u001b[0;36m_reset\u001b[0;34m(self)\u001b[0m\n\u001b[1;32m     11\u001b[0m     \u001b[0;31m#reset 함수 정의\u001b[0m\u001b[0;34m\u001b[0m\u001b[0;34m\u001b[0m\u001b[0m\n\u001b[1;32m     12\u001b[0m     \u001b[0;32mdef\u001b[0m \u001b[0m_reset\u001b[0m\u001b[0;34m(\u001b[0m\u001b[0mself\u001b[0m\u001b[0;34m)\u001b[0m \u001b[0;34m:\u001b[0m\u001b[0;34m\u001b[0m\u001b[0m\n\u001b[0;32m---> 13\u001b[0;31m         \u001b[0mself\u001b[0m\u001b[0;34m.\u001b[0m\u001b[0mrow\u001b[0m \u001b[0;34m=\u001b[0m \u001b[0mself\u001b[0m\u001b[0;34m.\u001b[0m\u001b[0mrow_start\u001b[0m\u001b[0;34m\u001b[0m\u001b[0m\n\u001b[0m\u001b[1;32m     14\u001b[0m         \u001b[0mself\u001b[0m\u001b[0;34m.\u001b[0m\u001b[0mcol\u001b[0m \u001b[0;34m=\u001b[0m \u001b[0mself\u001b[0m\u001b[0;34m.\u001b[0m\u001b[0mcol_start\u001b[0m\u001b[0;34m\u001b[0m\u001b[0m\n\u001b[1;32m     15\u001b[0m         \u001b[0mself\u001b[0m\u001b[0;34m.\u001b[0m\u001b[0mdirection\u001b[0m \u001b[0;34m=\u001b[0m \u001b[0;36m1\u001b[0m\u001b[0;34m\u001b[0m\u001b[0m\n",
      "\u001b[0;31mAttributeError\u001b[0m: 'RobotController' object has no attribute 'row_start'"
     ]
    }
   ],
   "source": [
    "#알고리즘 실행 및 문제 해결\n",
    "algorithms.eaSimple(population, toolbox, probab_crossover,\n",
    "                   probab_mutate, num_generations, stats,\n",
    "                   halloffame = hall_of_fame)"
   ]
  },
  {
   "cell_type": "code",
   "execution_count": null,
   "metadata": {
    "collapsed": true
   },
   "outputs": [],
   "source": []
  },
  {
   "cell_type": "code",
   "execution_count": null,
   "metadata": {
    "collapsed": true
   },
   "outputs": [],
   "source": []
  },
  {
   "cell_type": "code",
   "execution_count": null,
   "metadata": {
    "collapsed": true
   },
   "outputs": [],
   "source": []
  }
 ],
 "metadata": {
  "kernelspec": {
   "display_name": "Python 3",
   "language": "python",
   "name": "python3"
  },
  "language_info": {
   "codemirror_mode": {
    "name": "ipython",
    "version": 3
   },
   "file_extension": ".py",
   "mimetype": "text/x-python",
   "name": "python",
   "nbconvert_exporter": "python",
   "pygments_lexer": "ipython3",
   "version": "3.5.1"
  }
 },
 "nbformat": 4,
 "nbformat_minor": 2
}
