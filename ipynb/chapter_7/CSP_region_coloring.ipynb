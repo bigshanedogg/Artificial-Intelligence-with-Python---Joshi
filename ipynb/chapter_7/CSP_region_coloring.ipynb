{
 "cells": [
  {
   "cell_type": "code",
   "execution_count": 1,
   "metadata": {
    "collapsed": true
   },
   "outputs": [],
   "source": [
    "from simpleai.search import CspProblem, backtrack"
   ]
  },
  {
   "cell_type": "code",
   "execution_count": 7,
   "metadata": {
    "collapsed": true
   },
   "outputs": [],
   "source": [
    "#이웃과 서로 다른 색으로 칠해야 한다는 제약 조건 정의하기\n",
    "def constraint_func(names, values) : \n",
    "    return values[0]!=values[1]"
   ]
  },
  {
   "cell_type": "code",
   "execution_count": 8,
   "metadata": {
    "collapsed": true
   },
   "outputs": [],
   "source": [
    "names = (\"Mark\", \"julia\", \"Steve\", \"Amanda\", \"Brian\", \"Joanne\", \"Derek\", \"Allem\", \"Michelle\", \"Kelly\")\n",
    "colors = dict((name, ['red','green','blue','gray']) for name in names)"
   ]
  },
  {
   "cell_type": "code",
   "execution_count": 9,
   "metadata": {
    "collapsed": true
   },
   "outputs": [],
   "source": [
    "#제약 조건 정의하기 (서로 인접한 영역에 대해 정의)\n",
    "constraints = [\n",
    "    ((\"Mark\",\"julia\"), constraint_func), \n",
    "    ((\"Mark\",\"Steve\"), constraint_func), \n",
    "    ((\"julia\",\"Steve\"), constraint_func), \n",
    "    ((\"julia\",\"Amanda\"), constraint_func), \n",
    "    ((\"julia\",\"Derek\"), constraint_func), \n",
    "    ((\"julia\",\"Brian\"), constraint_func), \n",
    "    ((\"Steve\",\"Amanda\"), constraint_func), \n",
    "    ((\"Steve\",\"Michelle\"), constraint_func), \n",
    "    ((\"Steve\",\"Allan\"), constraint_func), \n",
    "    ((\"Amanda\",\"Michelle\"), constraint_func), \n",
    "    ((\"Amanda\",\"Joanne\"), constraint_func), \n",
    "    ((\"Amanda\",\"Derek\"), constraint_func), \n",
    "    ((\"Brian\",\"Derek\"), constraint_func), \n",
    "    ((\"Brian\",\"Kelly\"), constraint_func), \n",
    "    ((\"Joanne\",\"Michelle\"), constraint_func), \n",
    "    ((\"Joanne\",\"Amanda\"), constraint_func), \n",
    "    ((\"Joanne\",\"Derek\"), constraint_func), \n",
    "    ((\"Joanne\",\"Kelly\"), constraint_func), \n",
    "    ((\"Derek\",\"Kelly\"), constraint_func)\n",
    "]"
   ]
  },
  {
   "cell_type": "code",
   "execution_count": 10,
   "metadata": {},
   "outputs": [],
   "source": [
    "#문제 풀기 \n",
    "problem = CspProblem(names, colors, constraints)\n",
    "output = backtrack(problem)"
   ]
  },
  {
   "cell_type": "code",
   "execution_count": 11,
   "metadata": {},
   "outputs": [
    {
     "name": "stdout",
     "output_type": "stream",
     "text": [
      "\n",
      "Colour mapping:\n",
      "\n",
      "Amanda ==> red\n",
      "Kelly ==> gray\n",
      "Mark ==> red\n",
      "julia ==> green\n",
      "Brian ==> red\n",
      "Derek ==> blue\n",
      "Allem ==> red\n",
      "Joanne ==> green\n",
      "Michelle ==> gray\n",
      "Steve ==> blue\n"
     ]
    }
   ],
   "source": [
    "#답 출력\n",
    "print(\"\\nColour mapping:\\n\")\n",
    "for k,v in output.items() : \n",
    "    print(k,\"==>\",v)"
   ]
  },
  {
   "cell_type": "code",
   "execution_count": null,
   "metadata": {
    "collapsed": true
   },
   "outputs": [],
   "source": []
  },
  {
   "cell_type": "code",
   "execution_count": null,
   "metadata": {
    "collapsed": true
   },
   "outputs": [],
   "source": []
  },
  {
   "cell_type": "code",
   "execution_count": null,
   "metadata": {
    "collapsed": true
   },
   "outputs": [],
   "source": []
  },
  {
   "cell_type": "code",
   "execution_count": null,
   "metadata": {
    "collapsed": true
   },
   "outputs": [],
   "source": []
  },
  {
   "cell_type": "code",
   "execution_count": null,
   "metadata": {
    "collapsed": true
   },
   "outputs": [],
   "source": []
  },
  {
   "cell_type": "code",
   "execution_count": null,
   "metadata": {
    "collapsed": true
   },
   "outputs": [],
   "source": []
  }
 ],
 "metadata": {
  "kernelspec": {
   "display_name": "Python 3",
   "language": "python",
   "name": "python3"
  },
  "language_info": {
   "codemirror_mode": {
    "name": "ipython",
    "version": 3
   },
   "file_extension": ".py",
   "mimetype": "text/x-python",
   "name": "python",
   "nbconvert_exporter": "python",
   "pygments_lexer": "ipython3",
   "version": "3.5.1"
  }
 },
 "nbformat": 4,
 "nbformat_minor": 2
}
