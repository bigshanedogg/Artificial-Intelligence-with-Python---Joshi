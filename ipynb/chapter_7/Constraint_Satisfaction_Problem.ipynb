{
 "cells": [
  {
   "cell_type": "code",
   "execution_count": 1,
   "metadata": {
    "collapsed": true
   },
   "outputs": [],
   "source": [
    "from simpleai.search import CspProblem, backtrack, min_conflicts, MOST_CONSTRAINED_VARIABLE, \\\n",
    "                            HIGHEST_DEGREE_VARIABLE, LEAST_CONSTRAINING_VALUE"
   ]
  },
  {
   "cell_type": "code",
   "execution_count": 2,
   "metadata": {
    "collapsed": true
   },
   "outputs": [],
   "source": [
    "#변수마다 고유한 값을 가져야 한다는 제약 조건\n",
    "def constraint_unique(variables, values) : \n",
    "    #서로 값이 다른지 체크\n",
    "    return len(values) == len(set(values))"
   ]
  },
  {
   "cell_type": "code",
   "execution_count": 3,
   "metadata": {
    "collapsed": true
   },
   "outputs": [],
   "source": [
    "#첫번째 변수는 두번째 변수보다 큰 값을 가져야 한다는 제약 조건\n",
    "def constraint_bigger(variables, values) : \n",
    "    return values[0] > values[1]"
   ]
  },
  {
   "cell_type": "code",
   "execution_count": 4,
   "metadata": {
    "collapsed": true
   },
   "outputs": [],
   "source": [
    "#첫번째와 두번째 변수 중 어느 하나가 홀수면 다른 하나는 짝수여야 한다는 제약 조건\n",
    "def constraint_odd_even(variables, values) : \n",
    "    #첫번째 변수가 짝수면, 두번째 변수는 홀수\n",
    "    #첫번째 변수가 홀수면, 두번째 변수는 짝수\n",
    "    if values[0]%2 == 0 :\n",
    "        return values[1]%2 == 1\n",
    "    else : \n",
    "        return values[1]%2 == 0"
   ]
  },
  {
   "cell_type": "code",
   "execution_count": 5,
   "metadata": {
    "collapsed": true
   },
   "outputs": [],
   "source": [
    "variables = (\"John\", \"Anna\", \"Tom\", \"Patricia\")"
   ]
  },
  {
   "cell_type": "code",
   "execution_count": 6,
   "metadata": {
    "collapsed": true
   },
   "outputs": [],
   "source": [
    "domains = {\n",
    "    \"John\": [1,2,3],\n",
    "    \"Anna\": [1,3],\n",
    "    \"Tom\": [2,4],\n",
    "    \"Patricia\": [2,3,4]\n",
    "}"
   ]
  },
  {
   "cell_type": "code",
   "execution_count": 7,
   "metadata": {
    "collapsed": true
   },
   "outputs": [],
   "source": [
    "constraints = [\n",
    "    ((\"John\", \"Anna\", \"Tom\"), constraint_unique),\n",
    "    ((\"Tom\", \"Anna\"), constraint_bigger),\n",
    "    ((\"John\", \"Patricia\"), constraint_odd_even)\n",
    "]"
   ]
  },
  {
   "cell_type": "code",
   "execution_count": 8,
   "metadata": {
    "collapsed": true
   },
   "outputs": [],
   "source": [
    "problem = CspProblem(variables, domains, constraints)"
   ]
  },
  {
   "cell_type": "code",
   "execution_count": 10,
   "metadata": {},
   "outputs": [
    {
     "name": "stdout",
     "output_type": "stream",
     "text": [
      "\n",
      "Solutions:\n",
      "\n",
      "Normal: {'John': 1, 'Patricia': 2, 'Anna': 3, 'Tom': 4}\n",
      "\n",
      "Most constrained variable: {'John': 3, 'Patricia': 2, 'Anna': 1, 'Tom': 2}\n",
      "\n",
      "Highest degree variable: {'John': 1, 'Patricia': 2, 'Anna': 3, 'Tom': 4}\n",
      "\n",
      "Least constraining value: {'John': 1, 'Patricia': 2, 'Anna': 3, 'Tom': 4}\n",
      "\n",
      "Most constrained variable and least constraining value: {'John': 3, 'Patricia': 2, 'Anna': 1, 'Tom': 2}\n",
      "\n",
      "Highest degree and least constraining value: {'John': 1, 'Patricia': 2, 'Anna': 3, 'Tom': 4}\n",
      "\n",
      "Minimum conflicts: {'John': 3, 'Patricia': 4, 'Anna': 1, 'Tom': 4}\n"
     ]
    }
   ],
   "source": [
    "print(\"\\nSolutions:\\n\\nNormal:\", backtrack(problem))\n",
    "print(\"\\nMost constrained variable:\", backtrack(problem, variable_heuristic=MOST_CONSTRAINED_VARIABLE))\n",
    "print(\"\\nHighest degree variable:\", backtrack(problem, variable_heuristic=HIGHEST_DEGREE_VARIABLE))\n",
    "print(\"\\nLeast constraining value:\", backtrack(problem, value_heuristic=LEAST_CONSTRAINING_VALUE))\n",
    "print(\"\\nMost constrained variable and least constraining value:\", \n",
    "     backtrack(problem, variable_heuristic=MOST_CONSTRAINED_VARIABLE, value_heuristic=LEAST_CONSTRAINING_VALUE))\n",
    "print(\"\\nHighest degree and least constraining value:\", backtrack(problem, variable_heuristic=HIGHEST_DEGREE_VARIABLE,\n",
    "                                                                 value_heuristic=LEAST_CONSTRAINING_VALUE))\n",
    "print(\"\\nMinimum conflicts:\", min_conflicts(problem))"
   ]
  },
  {
   "cell_type": "code",
   "execution_count": null,
   "metadata": {
    "collapsed": true
   },
   "outputs": [],
   "source": []
  },
  {
   "cell_type": "code",
   "execution_count": null,
   "metadata": {
    "collapsed": true
   },
   "outputs": [],
   "source": []
  }
 ],
 "metadata": {
  "kernelspec": {
   "display_name": "Python 3",
   "language": "python",
   "name": "python3"
  },
  "language_info": {
   "codemirror_mode": {
    "name": "ipython",
    "version": 3
   },
   "file_extension": ".py",
   "mimetype": "text/x-python",
   "name": "python",
   "nbconvert_exporter": "python",
   "pygments_lexer": "ipython3",
   "version": "3.5.1"
  }
 },
 "nbformat": 4,
 "nbformat_minor": 2
}
