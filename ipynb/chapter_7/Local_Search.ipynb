{
 "cells": [
  {
   "cell_type": "code",
   "execution_count": 1,
   "metadata": {
    "collapsed": true
   },
   "outputs": [],
   "source": [
    "import simpleai.search as ss"
   ]
  },
  {
   "cell_type": "code",
   "execution_count": 4,
   "metadata": {
    "collapsed": true
   },
   "outputs": [],
   "source": [
    "#제공된 메소드 오버라이딩\n",
    "class CustomProblem(ss.SearchProblem) : \n",
    "    def set_target(self, target_string) : \n",
    "        self.target_string = target_string\n",
    "        \n",
    "        \n",
    "    def actions(self, cur_state) : #현재 상태를 확인하고 적절한 액션 취하기 \n",
    "        if len(cur_state) < len(self.target_string) : \n",
    "            alphabets = \"abcdefghijklmnopqrstuvwxyz\"\n",
    "            return list(alphabets + \" \"+ alphabets.upper())\n",
    "        else : \n",
    "            return []\n",
    "\n",
    "        \n",
    "    def result(self, cur_state, action) : #cur_state와 action을 결합해 문자열 만들기\n",
    "        return cur_state+action\n",
    "    \n",
    "    \n",
    "    def is_goal(self, cur_state) : #목표에 도달했는지 체크\n",
    "        return cur_state == self.target_string \n",
    "    \n",
    "    \n",
    "    def heuristic(self, cur_state) : \n",
    "        #현재 문자열과 목표 문자열 비교하기\n",
    "        dist = sum([1 if cur_state[i]!=self.target_string[i] else 0 for i in range(len(cur_state))])    \n",
    "        #두 문자열의 길이 차이 구하기\n",
    "        diff = len(self.target_string) - len(cur_state) \n",
    "        return dist+diff"
   ]
  },
  {
   "cell_type": "code",
   "execution_count": 6,
   "metadata": {
    "collapsed": true
   },
   "outputs": [],
   "source": [
    "input_string = \"Artificial Intelligence\"\n",
    "initial_state = \"\""
   ]
  },
  {
   "cell_type": "code",
   "execution_count": 7,
   "metadata": {
    "collapsed": true
   },
   "outputs": [],
   "source": [
    "problem = CustomProblem()\n",
    "problem.set_target(input_string)\n",
    "problem.initial_state = initial_state"
   ]
  },
  {
   "cell_type": "code",
   "execution_count": 8,
   "metadata": {
    "collapsed": true
   },
   "outputs": [],
   "source": [
    "output = ss.greedy(problem)"
   ]
  },
  {
   "cell_type": "code",
   "execution_count": 9,
   "metadata": {},
   "outputs": [
    {
     "name": "stdout",
     "output_type": "stream",
     "text": [
      "\n",
      "Target string: Artificial Intelligence\n",
      "\n",
      "Path to the solution:\n",
      "(None, '')\n",
      "('A', 'A')\n",
      "('r', 'Ar')\n",
      "('t', 'Art')\n",
      "('i', 'Arti')\n",
      "('f', 'Artif')\n",
      "('i', 'Artifi')\n",
      "('c', 'Artific')\n",
      "('i', 'Artifici')\n",
      "('a', 'Artificia')\n",
      "('l', 'Artificial')\n",
      "(' ', 'Artificial ')\n",
      "('I', 'Artificial I')\n",
      "('n', 'Artificial In')\n",
      "('t', 'Artificial Int')\n",
      "('e', 'Artificial Inte')\n",
      "('l', 'Artificial Intel')\n",
      "('l', 'Artificial Intell')\n",
      "('i', 'Artificial Intelli')\n",
      "('g', 'Artificial Intellig')\n",
      "('e', 'Artificial Intellige')\n",
      "('n', 'Artificial Intelligen')\n",
      "('c', 'Artificial Intelligenc')\n",
      "('e', 'Artificial Intelligence')\n"
     ]
    }
   ],
   "source": [
    "print(\"\\nTarget string:\", input_string)\n",
    "print(\"\\nPath to the solution:\")\n",
    "for item in output.path() : \n",
    "    print(item)"
   ]
  },
  {
   "cell_type": "code",
   "execution_count": null,
   "metadata": {
    "collapsed": true
   },
   "outputs": [],
   "source": []
  },
  {
   "cell_type": "code",
   "execution_count": null,
   "metadata": {
    "collapsed": true
   },
   "outputs": [],
   "source": []
  },
  {
   "cell_type": "code",
   "execution_count": null,
   "metadata": {
    "collapsed": true
   },
   "outputs": [],
   "source": []
  },
  {
   "cell_type": "code",
   "execution_count": null,
   "metadata": {
    "collapsed": true
   },
   "outputs": [],
   "source": []
  },
  {
   "cell_type": "code",
   "execution_count": null,
   "metadata": {
    "collapsed": true
   },
   "outputs": [],
   "source": []
  }
 ],
 "metadata": {
  "kernelspec": {
   "display_name": "Python 3",
   "language": "python",
   "name": "python3"
  },
  "language_info": {
   "codemirror_mode": {
    "name": "ipython",
    "version": 3
   },
   "file_extension": ".py",
   "mimetype": "text/x-python",
   "name": "python",
   "nbconvert_exporter": "python",
   "pygments_lexer": "ipython3",
   "version": "3.5.1"
  }
 },
 "nbformat": 4,
 "nbformat_minor": 2
}
