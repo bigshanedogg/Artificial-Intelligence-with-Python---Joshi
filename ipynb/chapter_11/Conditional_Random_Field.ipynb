{
 "cells": [
  {
   "cell_type": "code",
   "execution_count": 1,
   "metadata": {
    "collapsed": true
   },
   "outputs": [],
   "source": [
    "import os\n",
    "import argparse\n",
    "import string\n",
    "import pickle\n",
    "import numpy as np\n",
    "import matplotlib.pyplot as plt"
   ]
  },
  {
   "cell_type": "code",
   "execution_count": 12,
   "metadata": {},
   "outputs": [],
   "source": [
    "from pystruct.datasets import load_letters\n",
    "from pystruct.learners import FrankWolfeSSVM\n",
    "from pystruct.models import ChainCRF"
   ]
  },
  {
   "cell_type": "code",
   "execution_count": 5,
   "metadata": {},
   "outputs": [
    {
     "name": "stdout",
     "output_type": "stream",
     "text": [
      "Collecting pystruct\n",
      "  Using cached pystruct-0.2.4.tar.gz\n",
      "Collecting ad3 (from pystruct)\n",
      "  Downloading ad3-2.1-cp35-cp35m-macosx_10_6_intel.macosx_10_9_intel.macosx_10_9_x86_64.macosx_10_10_intel.macosx_10_10_x86_64.whl (519kB)\n",
      "\u001b[K    100% |████████████████████████████████| 522kB 681kB/s ta 0:00:01\n",
      "\u001b[?25hBuilding wheels for collected packages: pystruct\n",
      "  Running setup.py bdist_wheel for pystruct ... \u001b[?25ldone\n",
      "\u001b[?25h  Stored in directory: /Users/hodong/Library/Caches/pip/wheels/8b/87/bc/6fb10e64e8fd0b722e9e9e2236a939a1e9957d792b7b77486b\n",
      "Successfully built pystruct\n",
      "Installing collected packages: ad3, pystruct\n",
      "Successfully installed ad3-2.1 pystruct-0.2.4\n"
     ]
    }
   ],
   "source": [
    "!pip install pystruct"
   ]
  },
  {
   "cell_type": "code",
   "execution_count": 22,
   "metadata": {
    "collapsed": true
   },
   "outputs": [],
   "source": [
    "class CRFmodel(object) : \n",
    "    def __init__(self, c_val=1.0) : \n",
    "        self.clf = FrankWolfeSSVM(model=ChainCRF(), C=c_val, max_iter=50)\n",
    "        \n",
    "    def load_data(self) : \n",
    "        alphabets = load_letters()\n",
    "        X = np.array(alphabets['data'])\n",
    "        Y = np.array(alphabets['labels'])\n",
    "        folds = alphabets['folds']\n",
    "        \n",
    "        return X, Y, folds\n",
    "    \n",
    "    def train(self, X_train, Y_train) : \n",
    "        self.clf.fit(X_train, Y_train)\n",
    "        \n",
    "    def evaluate(self, X_test, Y_test) : \n",
    "        return self.clf.score(X_test, Y_test)\n",
    "    \n",
    "    def classify(self, input_data) : \n",
    "        return self.clf.predict(input_data)[0]\n",
    "    \n",
    "    def convert_to_letters(self, indices) : \n",
    "        #모든 알파벳에 대한 numpy 배열 선언\n",
    "        alphabets = np.array(list(string.ascii_lowercase))\n",
    "        output = np.take(alphabets, indices) #np.take는 주어진 index(indices)에 해당하는 원소만을 추출해서 뽑아준다.\n",
    "        output = ''.join(output)\n",
    "        \n",
    "        return output"
   ]
  },
  {
   "cell_type": "code",
   "execution_count": 25,
   "metadata": {},
   "outputs": [],
   "source": [
    "#data preprocessing and model creating\n",
    "c_val = 0.5\n",
    "crf = CRFmodel(c_val)\n",
    "X, Y, folds = crf.load_data()\n",
    "X_train, X_test = X[folds==1], X[folds!=1]\n",
    "Y_train, Y_test = Y[folds==1], Y[folds!=1]"
   ]
  },
  {
   "cell_type": "code",
   "execution_count": 26,
   "metadata": {},
   "outputs": [
    {
     "name": "stdout",
     "output_type": "stream",
     "text": [
      "\n",
      "Training the CRF model...\n"
     ]
    }
   ],
   "source": [
    "#training CRFmodel\n",
    "print(\"\\nTraining the CRF model...\")\n",
    "crf.train(X_train, Y_train)"
   ]
  },
  {
   "cell_type": "code",
   "execution_count": 27,
   "metadata": {},
   "outputs": [
    {
     "name": "stdout",
     "output_type": "stream",
     "text": [
      "\n",
      "Accuracy score = 78.55%\n"
     ]
    }
   ],
   "source": [
    "#evaluating accuracy\n",
    "score = crf.evaluate(X_test, Y_test) \n",
    "print(\"\\nAccuracy score =\", str(round(score*100, 2)) + \"%\")"
   ]
  },
  {
   "cell_type": "code",
   "execution_count": 28,
   "metadata": {},
   "outputs": [
    {
     "name": "stdout",
     "output_type": "stream",
     "text": [
      "\n",
      "Original = rojections\n",
      "Predicted = rojectiong\n",
      "\n",
      "Original = uff\n",
      "Predicted = ufr\n",
      "\n",
      "Original = kiing\n",
      "Predicted = kiing\n",
      "\n",
      "Original = ecompress\n",
      "Predicted = ecomeregg\n",
      "\n",
      "Original = uzz\n",
      "Predicted = vax\n",
      "\n",
      "Original = poiling\n",
      "Predicted = aniting\n",
      "\n",
      "Original = uizzically\n",
      "Predicted = uzzzically\n",
      "\n",
      "Original = omparatively\n",
      "Predicted = omparatively\n",
      "\n",
      "Original = abulously\n",
      "Predicted = abuloualy\n",
      "\n",
      "Original = ormalization\n",
      "Predicted = ormalisation\n",
      "\n",
      "Original = ake\n",
      "Predicted = aka\n",
      "\n",
      "Original = afeteria\n",
      "Predicted = ateteria\n",
      "\n",
      "Original = obble\n",
      "Predicted = obble\n",
      "\n",
      "Original = hadow\n",
      "Predicted = habow\n",
      "\n",
      "Original = ndustrialized\n",
      "Predicted = ndusqrinlyled\n",
      "\n",
      "Original = ympathetically\n",
      "Predicted = ympnshetically\n"
     ]
    }
   ],
   "source": [
    "indices = range(3000, len(Y_test), 200)\n",
    "for index in indices : \n",
    "    print(\"\\nOriginal =\", crf.convert_to_letters(Y_test[index]))\n",
    "    predicted = crf.classify([X_test[index]])\n",
    "    print(\"Predicted =\", crf.convert_to_letters(predicted))"
   ]
  },
  {
   "cell_type": "code",
   "execution_count": null,
   "metadata": {
    "collapsed": true
   },
   "outputs": [],
   "source": []
  },
  {
   "cell_type": "code",
   "execution_count": null,
   "metadata": {
    "collapsed": true
   },
   "outputs": [],
   "source": []
  }
 ],
 "metadata": {
  "kernelspec": {
   "display_name": "Python 3",
   "language": "python",
   "name": "python3"
  },
  "language_info": {
   "codemirror_mode": {
    "name": "ipython",
    "version": 3
   },
   "file_extension": ".py",
   "mimetype": "text/x-python",
   "name": "python",
   "nbconvert_exporter": "python",
   "pygments_lexer": "ipython3",
   "version": "3.5.1"
  }
 },
 "nbformat": 4,
 "nbformat_minor": 2
}
