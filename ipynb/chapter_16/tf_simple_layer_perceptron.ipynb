{
 "cells": [
  {
   "cell_type": "code",
   "execution_count": null,
   "metadata": {
    "collapsed": true
   },
   "outputs": [],
   "source": [
    "import tensorflow as tf\n",
    "from tensorflow.examples.tutorials.mnist import input_data"
   ]
  },
  {
   "cell_type": "code",
   "execution_count": null,
   "metadata": {
    "collapsed": true
   },
   "outputs": [],
   "source": [
    "#data input\n",
    "input_dir = \"./mnist_data\"\n",
    "mnist = input_data.read_data_sets(input_dir, one_hot=True)"
   ]
  },
  {
   "cell_type": "code",
   "execution_count": null,
   "metadata": {
    "collapsed": true
   },
   "outputs": [],
   "source": [
    "#layer with 784 neurons, 28*28 pixels\n",
    "x = tf.placeholder(tf.float32, [None, 784])\n",
    "\n",
    "# Create a layer with weights and biases. There are 10 distinct\n",
    "# digits, so the output layer should have 10 classes\n",
    "W = tf.Variable(tf.zeros([784, 10]))\n",
    "b = tf.Variable(tf.zeros([10]))\n",
    "\n",
    "# Create the equation for 'y' using y = W*x + b\n",
    "y = tf.matmul(x, W) + b"
   ]
  },
  {
   "cell_type": "code",
   "execution_count": null,
   "metadata": {
    "collapsed": true
   },
   "outputs": [],
   "source": [
    "# Define the entropy loss and the gradient descent optimizer\n",
    "y_loss = tf.placeholder(tf.float32, [None, 10])\n",
    "loss = tf.reduce_mean(tf.nn.softmax_cross_entropy_with_logits(logits=y, labels=y_loss))\n",
    "optimizer = tf.train.GradientDescentOptimizer(0.5).minimize(loss)"
   ]
  },
  {
   "cell_type": "code",
   "execution_count": null,
   "metadata": {
    "collapsed": true
   },
   "outputs": [],
   "source": [
    "# Initialize all the variables\n",
    "init = tf.initialize_all_variables()\n",
    "\n",
    "# Create a session\n",
    "session = tf.Session()\n",
    "session.run(init)"
   ]
  },
  {
   "cell_type": "code",
   "execution_count": null,
   "metadata": {
    "collapsed": true
   },
   "outputs": [],
   "source": [
    "# Start training\n",
    "num_iterations = 1200\n",
    "batch_size = 90\n",
    "for _ in range(num_iterations):\n",
    "    # Get the next batch of images\n",
    "    x_batch, y_batch = mnist.train.next_batch(batch_size)\n",
    "\n",
    "    # Train on this batch of images\n",
    "    session.run(optimizer, feed_dict={x: x_batch, y_loss: y_batch})"
   ]
  },
  {
   "cell_type": "code",
   "execution_count": null,
   "metadata": {
    "collapsed": true
   },
   "outputs": [],
   "source": [
    "# Compute the accuracy using test data\n",
    "predicted = tf.equal(tf.argmax(y, 1), tf.argmax(y_loss, 1))\n",
    "accuracy = tf.reduce_mean(tf.cast(predicted, tf.float32))\n",
    "print('\\nAccuracy =', session.run(accuracy, feed_dict={x: mnist.test.images, y_loss: mnist.test.labels}))"
   ]
  }
 ],
 "metadata": {
  "kernelspec": {
   "display_name": "Python 3",
   "language": "python",
   "name": "python3"
  },
  "language_info": {
   "codemirror_mode": {
    "name": "ipython",
    "version": 3
   },
   "file_extension": ".py",
   "mimetype": "text/x-python",
   "name": "python",
   "nbconvert_exporter": "python",
   "pygments_lexer": "ipython3",
   "version": "3.5.1"
  }
 },
 "nbformat": 4,
 "nbformat_minor": 2
}
