{
 "cells": [
  {
   "cell_type": "code",
   "execution_count": 1,
   "metadata": {},
   "outputs": [
    {
     "name": "stderr",
     "output_type": "stream",
     "text": [
      "/Library/Frameworks/Python.framework/Versions/3.5/lib/python3.5/site-packages/sklearn/cross_validation.py:44: DeprecationWarning: This module was deprecated in version 0.18 in favor of the model_selection module into which all the refactored classes and functions are moved. Also note that the interface of the new CV iterators are different from that of this module. This module will be removed in 0.20.\n",
      "  \"This module will be removed in 0.20.\", DeprecationWarning)\n",
      "/Library/Frameworks/Python.framework/Versions/3.5/lib/python3.5/site-packages/sklearn/grid_search.py:43: DeprecationWarning: This module was deprecated in version 0.18 in favor of the model_selection module into which all the refactored classes and functions are moved. This module will be removed in 0.20.\n",
      "  DeprecationWarning)\n"
     ]
    }
   ],
   "source": [
    "import numpy as np\n",
    "import matplotlib.pyplot as plt\n",
    "from sklearn.metrics import classification_report\n",
    "from sklearn import cross_validation, grid_search\n",
    "from sklearn.ensemble import RandomForestClassifier, ExtraTreesClassifier\n",
    "\n",
    "from utilities import visualize_classifier"
   ]
  },
  {
   "cell_type": "code",
   "execution_count": 2,
   "metadata": {
    "collapsed": true
   },
   "outputs": [],
   "source": [
    "#load data\n",
    "input_file = \"data_random_forests.txt\"\n",
    "data = np.loadtxt(input_file, delimiter=\",\")\n",
    "X, Y = data[:, :-1], data[:, -1]"
   ]
  },
  {
   "cell_type": "code",
   "execution_count": 3,
   "metadata": {
    "collapsed": true
   },
   "outputs": [],
   "source": [
    "#split data by class\n",
    "class_0 = np.array(X[Y==0])\n",
    "class_1 = np.array(X[Y==1])\n",
    "class_2 = np.array(X[Y==2])"
   ]
  },
  {
   "cell_type": "code",
   "execution_count": 4,
   "metadata": {
    "collapsed": true
   },
   "outputs": [],
   "source": [
    "#split into training and test set\n",
    "X_train, X_test, Y_train, Y_test = cross_validation.train_test_split(X, Y, test_size=0.25, random_state=5)"
   ]
  },
  {
   "cell_type": "code",
   "execution_count": 25,
   "metadata": {},
   "outputs": [],
   "source": [
    "#setting range of parameter for grid_search ; grid means \"range of parameter\"\n",
    "#exactly, It's not range, but expected value list for each parameter\n",
    "parameter_grid = [{\"n_estimators\":[100], \"max_depth\":[2,4,7,12,16]}, \n",
    "                  {\"max_depth\":[4], \"n_estimators\":[25,50,100,250]}]"
   ]
  },
  {
   "cell_type": "code",
   "execution_count": 26,
   "metadata": {
    "collapsed": true
   },
   "outputs": [],
   "source": [
    "metrics = ['precision_weighted', 'recall_weighted']"
   ]
  },
  {
   "cell_type": "code",
   "execution_count": 28,
   "metadata": {},
   "outputs": [
    {
     "name": "stdout",
     "output_type": "stream",
     "text": [
      "\n",
      "#### Searching optimal parameters for precision_weighted\n",
      "\n",
      "Grid scores for the parameter grid:\n",
      "{'n_estimators': 100, 'max_depth': 2} --> 0.847\n",
      "{'n_estimators': 100, 'max_depth': 4} --> 0.841\n",
      "{'n_estimators': 100, 'max_depth': 7} --> 0.844\n",
      "{'n_estimators': 100, 'max_depth': 12} --> 0.836\n",
      "{'n_estimators': 100, 'max_depth': 16} --> 0.818\n",
      "{'n_estimators': 25, 'max_depth': 4} --> 0.846\n",
      "{'n_estimators': 50, 'max_depth': 4} --> 0.84\n",
      "{'n_estimators': 100, 'max_depth': 4} --> 0.841\n",
      "{'n_estimators': 250, 'max_depth': 4} --> 0.845\n",
      "\n",
      "Best parameters: {'n_estimators': 100, 'max_depth': 2}\n",
      "\n",
      "Performance report:\n",
      "\n",
      "             precision    recall  f1-score   support\n",
      "\n",
      "        0.0       0.94      0.81      0.87        79\n",
      "        1.0       0.81      0.86      0.83        70\n",
      "        2.0       0.83      0.91      0.87        76\n",
      "\n",
      "avg / total       0.86      0.86      0.86       225\n",
      "\n",
      "\n",
      "#### Searching optimal parameters for recall_weighted\n",
      "\n",
      "Grid scores for the parameter grid:\n",
      "{'n_estimators': 100, 'max_depth': 2} --> 0.84\n",
      "{'n_estimators': 100, 'max_depth': 4} --> 0.837\n",
      "{'n_estimators': 100, 'max_depth': 7} --> 0.841\n",
      "{'n_estimators': 100, 'max_depth': 12} --> 0.834\n",
      "{'n_estimators': 100, 'max_depth': 16} --> 0.816\n",
      "{'n_estimators': 25, 'max_depth': 4} --> 0.843\n",
      "{'n_estimators': 50, 'max_depth': 4} --> 0.836\n",
      "{'n_estimators': 100, 'max_depth': 4} --> 0.837\n",
      "{'n_estimators': 250, 'max_depth': 4} --> 0.841\n",
      "\n",
      "Best parameters: {'n_estimators': 25, 'max_depth': 4}\n",
      "\n",
      "Performance report:\n",
      "\n",
      "             precision    recall  f1-score   support\n",
      "\n",
      "        0.0       0.93      0.84      0.88        79\n",
      "        1.0       0.85      0.86      0.85        70\n",
      "        2.0       0.84      0.92      0.88        76\n",
      "\n",
      "avg / total       0.87      0.87      0.87       225\n",
      "\n"
     ]
    }
   ],
   "source": [
    "for metric in metrics : \n",
    "    print(\"\\n#### Searching optimal parameters for\", metric)\n",
    "    classifier = grid_search.GridSearchCV(ExtraTreesClassifier(random_state=0), parameter_grid, cv=5, scoring=metric)\n",
    "    classifier.fit(X_train, Y_train)\n",
    "    print(\"\\nGrid scores for the parameter grid:\")\n",
    "    for params, avg_score, _ in classifier.grid_scores_ : \n",
    "        print(params, '-->', round(avg_score, 3))\n",
    "    print(\"\\nBest parameters:\", classifier.best_params_)\n",
    "    \n",
    "    Y_pred = classifier.predict(X_test)\n",
    "    print(\"\\nPerformance report:\\n\")\n",
    "    print(classification_report(Y_test, Y_pred))"
   ]
  },
  {
   "cell_type": "code",
   "execution_count": null,
   "metadata": {
    "collapsed": true
   },
   "outputs": [],
   "source": []
  },
  {
   "cell_type": "code",
   "execution_count": null,
   "metadata": {
    "collapsed": true
   },
   "outputs": [],
   "source": []
  },
  {
   "cell_type": "code",
   "execution_count": null,
   "metadata": {
    "collapsed": true
   },
   "outputs": [],
   "source": []
  },
  {
   "cell_type": "code",
   "execution_count": null,
   "metadata": {
    "collapsed": true
   },
   "outputs": [],
   "source": []
  }
 ],
 "metadata": {
  "kernelspec": {
   "display_name": "Python 3",
   "language": "python",
   "name": "python3"
  },
  "language_info": {
   "codemirror_mode": {
    "name": "ipython",
    "version": 3
   },
   "file_extension": ".py",
   "mimetype": "text/x-python",
   "name": "python",
   "nbconvert_exporter": "python",
   "pygments_lexer": "ipython3",
   "version": "3.5.1"
  }
 },
 "nbformat": 4,
 "nbformat_minor": 2
}
