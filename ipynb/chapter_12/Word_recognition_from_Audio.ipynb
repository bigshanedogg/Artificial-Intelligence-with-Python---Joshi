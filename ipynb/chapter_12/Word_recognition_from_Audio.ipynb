{
 "cells": [
  {
   "cell_type": "code",
   "execution_count": 5,
   "metadata": {
    "collapsed": true
   },
   "outputs": [],
   "source": [
    "import os\n",
    "import warnings\n",
    "import numpy as np\n",
    "from scipy.io import wavfile\n",
    "from hmmlearn import hmm\n",
    "from features import mfcc"
   ]
  },
  {
   "cell_type": "code",
   "execution_count": 6,
   "metadata": {
    "collapsed": true
   },
   "outputs": [],
   "source": [
    "class ModelHMM(object) : \n",
    "    def __init__(self, num_components=4, num_iter=1000) : \n",
    "        self.n_components = num_components\n",
    "        self.n_iter = num_iter\n",
    "        \n",
    "        self.model_name = \"GaussianHMM\" #HMM의 유형\n",
    "        self.cov_type = 'diag' #HMM의 공분산 유형\n",
    "        self.models = []\n",
    "        \n",
    "        self.model = hmm.GaussianHMM(n_components = self.n_components, covariance_type=self.cov_type, n_iter=self.n_iter)\n",
    "        \n",
    "    \n",
    "    def train(self, training_data) : \n",
    "        np.seterr(all=\"ignore\")\n",
    "        cur_model = self.model.fit(training_data)\n",
    "        self.models.append(cur_model)"
   ]
  },
  {
   "cell_type": "code",
   "execution_count": 7,
   "metadata": {
    "collapsed": true
   },
   "outputs": [],
   "source": [
    "def build_models(input_folder) : \n",
    "    speech_models = []\n",
    "\n",
    "    for dirname in os.listdir(input_folder) : \n",
    "        subfolder = os.path.join(input_folder, dirname)\n",
    "\n",
    "        if not os.path.isdir(subfolder) :\n",
    "            continue\n",
    "\n",
    "        label = subfolder[subfolder.rfind(\"/\") + 1:]\n",
    "\n",
    "        X = np.array([]) #variable initialization\n",
    "        training_files = [x for x in os.listdir(subfolder) if x.endswith(\".wav\")][:-1]\n",
    "\n",
    "        for filename in training_files : \n",
    "            filepath = os.path.join(subfolder, filename) \n",
    "            sampling_freq, signam = wavfile.read(filepath)\n",
    "\n",
    "            with warnings.catch_warnings() : \n",
    "                warnings.simplefilter(\"ignore\") \n",
    "                features_mfcc = mfcc(signal, sampling_freq)\n",
    "\n",
    "            if len(X) == 0 :\n",
    "                X = features_mfcc\n",
    "            else : \n",
    "                X = np.append(X, features_mfcc, axis=0)\n",
    "\n",
    "        model = ModelHMM() #creating HMM model\n",
    "        with arnings.catch_warnings() : #HMM model learning\n",
    "            warnings.simplefilter(\"ignore\")\n",
    "            model.train(X)\n",
    "            \n",
    "        speech_models.append((model, label))\n",
    "        model = None\n",
    "            \n",
    "    return speech_models"
   ]
  },
  {
   "cell_type": "code",
   "execution_count": 8,
   "metadata": {
    "collapsed": true
   },
   "outputs": [],
   "source": [
    "def run_test(test_files) : \n",
    "    for test_file in test_files : #divide input data\n",
    "        sampling_freq, signal = wavfile.read(test_file) #load input data\n",
    "        \n",
    "        #extract MFCC features\n",
    "        with warnings.catch_warnings() : \n",
    "            warnings.simplefilter(\"ignore\")\n",
    "            features_mfcc = mfcc(signal, sampling_freq)\n",
    "            \n",
    "        max_score = -float(\"inf\")\n",
    "        output_label = None\n",
    "        \n",
    "        for item in speech_models : \n",
    "            model, label = item\n",
    "            \n",
    "            score = model.compute_score(features_mfcc) \n",
    "            if score > max_score : \n",
    "                max_score = score\n",
    "                predicted_label = label\n",
    "                \n",
    "        start_index = test_file.find(\"/\") + 1\n",
    "        end_index = test_file.rfind(\"/\")\n",
    "        original_label = test_file[start_index : end_index]\n",
    "        print(\"\\nOriginal:\", original_label)\n",
    "        print(\"\\Predicted:\", predicted_label)"
   ]
  },
  {
   "cell_type": "code",
   "execution_count": 9,
   "metadata": {},
   "outputs": [
    {
     "ename": "NameError",
     "evalue": "name 'data' is not defined",
     "output_type": "error",
     "traceback": [
      "\u001b[0;31m---------------------------------------------------------------------------\u001b[0m",
      "\u001b[0;31mNameError\u001b[0m                                 Traceback (most recent call last)",
      "\u001b[0;32m<ipython-input-9-90b0355a717e>\u001b[0m in \u001b[0;36m<module>\u001b[0;34m()\u001b[0m\n\u001b[0;32m----> 1\u001b[0;31m \u001b[0minput_folder\u001b[0m \u001b[0;34m=\u001b[0m \u001b[0mdata\u001b[0m\u001b[0;34m\u001b[0m\u001b[0m\n\u001b[0m",
      "\u001b[0;31mNameError\u001b[0m: name 'data' is not defined"
     ]
    }
   ],
   "source": [
    "input_folder = data"
   ]
  },
  {
   "cell_type": "code",
   "execution_count": null,
   "metadata": {
    "collapsed": true
   },
   "outputs": [],
   "source": [
    "speech_models = build_models(input_folder) \n",
    "test_files = []\n",
    "for root, dirs, files in os.walk(input_folder) : \n",
    "    for filename in (x for x in files if \"15\" in x) : \n",
    "        filepath = os.path.join(root, filename)\n",
    "        test_files.append(filepath)"
   ]
  },
  {
   "cell_type": "code",
   "execution_count": null,
   "metadata": {
    "collapsed": true
   },
   "outputs": [],
   "source": [
    "run_tests(test_files)"
   ]
  }
 ],
 "metadata": {
  "kernelspec": {
   "display_name": "Python 3",
   "language": "python",
   "name": "python3"
  },
  "language_info": {
   "codemirror_mode": {
    "name": "ipython",
    "version": 3
   },
   "file_extension": ".py",
   "mimetype": "text/x-python",
   "name": "python",
   "nbconvert_exporter": "python",
   "pygments_lexer": "ipython3",
   "version": "3.5.1"
  }
 },
 "nbformat": 4,
 "nbformat_minor": 2
}
