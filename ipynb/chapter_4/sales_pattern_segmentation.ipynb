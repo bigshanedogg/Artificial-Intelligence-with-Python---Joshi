{
 "cells": [
  {
   "cell_type": "code",
   "execution_count": 21,
   "metadata": {},
   "outputs": [],
   "source": [
    "import csv\n",
    "import numpy as np\n",
    "import matplotlib.pyplot as plt\n",
    "from sklearn.cluster import MeanShift, estimate_bandwidth"
   ]
  },
  {
   "cell_type": "code",
   "execution_count": 29,
   "metadata": {
    "collapsed": true
   },
   "outputs": [],
   "source": [
    "input_file = \"sales.csv\"\n",
    "file_reader = csv.reader(open(input_file, mode=\"r\"), delimiter=\",\")"
   ]
  },
  {
   "cell_type": "code",
   "execution_count": 30,
   "metadata": {},
   "outputs": [],
   "source": [
    "X = [] \n",
    "for count, row in enumerate(file_reader) : \n",
    "    if not count : \n",
    "        names = row[1:]\n",
    "        continue\n",
    "    \n",
    "    X.append([float(x) for x in row[1:]])\n",
    "X = np.array(X)"
   ]
  },
  {
   "cell_type": "code",
   "execution_count": 31,
   "metadata": {},
   "outputs": [
    {
     "data": {
      "text/plain": [
       "array([[ 12449.,   8735.,   7351.,    203.,   2528.,   1269.],\n",
       "       [  6528.,  10103.,   9835.,   1664.,   3411.,   1737.],\n",
       "       [  6231.,   9223.,   8083.,   2631.,   3774.,   7394.],\n",
       "       ..., \n",
       "       [ 13302.,  15463.,  29256.,    416.,  15433.,   2041.],\n",
       "       [ 10004.,   1989.,   2282.,   1027.,    160.,   2022.],\n",
       "       [  2550.,   1670.,   2510.,     69.,    462.,     55.]])"
      ]
     },
     "execution_count": 31,
     "metadata": {},
     "output_type": "execute_result"
    }
   ],
   "source": [
    "X"
   ]
  },
  {
   "cell_type": "code",
   "execution_count": 32,
   "metadata": {},
   "outputs": [],
   "source": [
    "bandwidth = estimate_bandwidth(X, quantile=0.8, n_samples=len(X))"
   ]
  },
  {
   "cell_type": "code",
   "execution_count": 33,
   "metadata": {},
   "outputs": [
    {
     "data": {
      "text/plain": [
       "MeanShift(bandwidth=26006.389359024277, bin_seeding=True, cluster_all=True,\n",
       "     min_bin_freq=1, n_jobs=1, seeds=None)"
      ]
     },
     "execution_count": 33,
     "metadata": {},
     "output_type": "execute_result"
    }
   ],
   "source": [
    "#clustering with MeanShift\n",
    "meanshift_model = MeanShift(bandwidth=bandwidth, bin_seeding=True)\n",
    "meanshift_model.fit(X)"
   ]
  },
  {
   "cell_type": "code",
   "execution_count": 34,
   "metadata": {
    "collapsed": true
   },
   "outputs": [],
   "source": [
    "labels = meanshift_model.labels_\n",
    "cluster_centers = meanshift_model.cluster_centers_\n",
    "num_clusters = len(np.unique(labels))"
   ]
  },
  {
   "cell_type": "code",
   "execution_count": 35,
   "metadata": {},
   "outputs": [
    {
     "data": {
      "text/plain": [
       "['Tshirt', 'Tank top', 'Halter top', 'Turtleneck', 'Tube top', 'Sweater']"
      ]
     },
     "execution_count": 35,
     "metadata": {},
     "output_type": "execute_result"
    }
   ],
   "source": [
    "names"
   ]
  },
  {
   "cell_type": "code",
   "execution_count": 38,
   "metadata": {},
   "outputs": [
    {
     "name": "stdout",
     "output_type": "stream",
     "text": [
      "\n",
      "Number of clusters in input data = 9\n",
      "\n",
      "Centers of clusters:\n",
      "Tsh\tTan\tHal\tTur\tTub\tSwe\n",
      "9823\t4637\t6539\t2607\t2228\t1239\n",
      "38589\t44199\t56158\t5030\t24674\t4125\n",
      "7852\t4939\t63081\t134\t40066\t1332\n",
      "35314\t16745\t12775\t66900\t1298\t5613\n",
      "22617\t77873\t32543\t1005\t21035\t837\n",
      "104972\t29186\t19415\t16016\t5060\t9372\n",
      "38741\t40539\t20120\t35059\t255\t50710\n",
      "28333\t34263\t24065\t5575\t4229\t18076\n",
      "14987\t46397\t97393\t1127\t37315\t3235\n"
     ]
    }
   ],
   "source": [
    "print(\"\\nNumber of clusters in input data =\", num_clusters)\n",
    "print(\"\\nCenters of clusters:\")\n",
    "print(\"\\t\".join([name[:3] for name in names]))\n",
    "for cluster_center in cluster_centers : \n",
    "    print(\"\\t\".join([str(int(x)) for x in cluster_center]))"
   ]
  },
  {
   "cell_type": "code",
   "execution_count": 39,
   "metadata": {
    "collapsed": true
   },
   "outputs": [],
   "source": [
    "cluster_centers_2d = cluster_centers[:, 1:3]"
   ]
  },
  {
   "cell_type": "code",
   "execution_count": 40,
   "metadata": {},
   "outputs": [
    {
     "data": {
      "text/plain": [
       "array([[  4637.99746835,   6539.08607595],\n",
       "       [ 44199.        ,  56158.5       ],\n",
       "       [  4939.        ,  63081.        ],\n",
       "       [ 16745.        ,  12775.        ],\n",
       "       [ 77873.        ,  32543.        ],\n",
       "       [ 29186.        ,  19415.        ],\n",
       "       [ 40539.        ,  20120.        ],\n",
       "       [ 34263.        ,  24065.        ],\n",
       "       [ 46397.        ,  97393.        ]])"
      ]
     },
     "execution_count": 40,
     "metadata": {},
     "output_type": "execute_result"
    }
   ],
   "source": [
    "cluster_centers_2d"
   ]
  },
  {
   "cell_type": "code",
   "execution_count": 43,
   "metadata": {},
   "outputs": [
    {
     "data": {
      "image/png": "[encoded data removed]",
      "text/plain": [
       "<matplotlib.figure.Figure at 0x10bdc9240>"
      ]
     },
     "metadata": {},
     "output_type": "display_data"
    }
   ],
   "source": [
    "plt.figure()\n",
    "plt.scatter(cluster_centers_2d[:,0], cluster_centers_2d[:,1],\n",
    "           s=120, edgecolors=\"black\", facecolors=\"none\")\n",
    "offset = 0.25\n",
    "plt.xlim(\n",
    "cluster_centers_2d[:,0].min() - offset * cluster_centers_2d[:,0].ptp(),\n",
    "cluster_centers_2d[:,0].max() + offset * cluster_centers_2d[:,0].ptp())\n",
    "plt.ylim(\n",
    "cluster_centers_2d[:,1].min() - offset * cluster_centers_2d[:,1].ptp(),\n",
    "cluster_centers_2d[:,1].max() + offset * cluster_centers_2d[:,1].ptp())\n",
    "\n",
    "plt.title(\"Centers of 2D clusters\")\n",
    "plt.show()"
   ]
  }
 ],
 "metadata": {
  "kernelspec": {
   "display_name": "Python 3",
   "language": "python",
   "name": "python3"
  },
  "language_info": {
   "codemirror_mode": {
    "name": "ipython",
    "version": 3
   },
   "file_extension": ".py",
   "mimetype": "text/x-python",
   "name": "python",
   "nbconvert_exporter": "python",
   "pygments_lexer": "ipython3",
   "version": "3.5.1"
  }
 },
 "nbformat": 4,
 "nbformat_minor": 2
}
